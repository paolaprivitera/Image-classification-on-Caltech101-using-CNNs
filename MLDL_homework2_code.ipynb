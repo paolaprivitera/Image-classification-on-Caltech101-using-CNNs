{
  "nbformat": 4,
  "nbformat_minor": 0,
  "metadata": {
    "colab": {
      "name": "Copy of Homework2-MLDL.ipynb",
      "provenance": [],
      "collapsed_sections": []
    },
    "kernelspec": {
      "name": "python3",
      "display_name": "Python 3"
    },
    "accelerator": "GPU",
    "widgets": {
      "application/vnd.jupyter.widget-state+json": {
        "414fbf53ad894614a34aa1a877abc0bd": {
          "model_module": "@jupyter-widgets/controls",
          "model_name": "HBoxModel",
          "state": {
            "_view_name": "HBoxView",
            "_dom_classes": [],
            "_model_name": "HBoxModel",
            "_view_module": "@jupyter-widgets/controls",
            "_model_module_version": "1.5.0",
            "_view_count": null,
            "_view_module_version": "1.5.0",
            "box_style": "",
            "layout": "IPY_MODEL_84e2e9948f914b7cb891856b7d365cdf",
            "_model_module": "@jupyter-widgets/controls",
            "children": [
              "IPY_MODEL_291936814d7e4397af15da7964dff034",
              "IPY_MODEL_ad16526f74114a60807413c3c1b80bc5"
            ]
          }
        },
        "84e2e9948f914b7cb891856b7d365cdf": {
          "model_module": "@jupyter-widgets/base",
          "model_name": "LayoutModel",
          "state": {
            "_view_name": "LayoutView",
            "grid_template_rows": null,
            "right": null,
            "justify_content": null,
            "_view_module": "@jupyter-widgets/base",
            "overflow": null,
            "_model_module_version": "1.2.0",
            "_view_count": null,
            "flex_flow": null,
            "width": null,
            "min_width": null,
            "border": null,
            "align_items": null,
            "bottom": null,
            "_model_module": "@jupyter-widgets/base",
            "top": null,
            "grid_column": null,
            "overflow_y": null,
            "overflow_x": null,
            "grid_auto_flow": null,
            "grid_area": null,
            "grid_template_columns": null,
            "flex": null,
            "_model_name": "LayoutModel",
            "justify_items": null,
            "grid_row": null,
            "max_height": null,
            "align_content": null,
            "visibility": null,
            "align_self": null,
            "height": null,
            "min_height": null,
            "padding": null,
            "grid_auto_rows": null,
            "grid_gap": null,
            "max_width": null,
            "order": null,
            "_view_module_version": "1.2.0",
            "grid_template_areas": null,
            "object_position": null,
            "object_fit": null,
            "grid_auto_columns": null,
            "margin": null,
            "display": null,
            "left": null
          }
        },
        "291936814d7e4397af15da7964dff034": {
          "model_module": "@jupyter-widgets/controls",
          "model_name": "FloatProgressModel",
          "state": {
            "_view_name": "ProgressView",
            "style": "IPY_MODEL_e2529cdf213343d6bc5c3b93f8ee6dcb",
            "_dom_classes": [],
            "description": "100%",
            "_model_name": "FloatProgressModel",
            "bar_style": "success",
            "max": 553433881,
            "_view_module": "@jupyter-widgets/controls",
            "_model_module_version": "1.5.0",
            "value": 553433881,
            "_view_count": null,
            "_view_module_version": "1.5.0",
            "orientation": "horizontal",
            "min": 0,
            "description_tooltip": null,
            "_model_module": "@jupyter-widgets/controls",
            "layout": "IPY_MODEL_ad9b8ebad043431d88d45487a60637ad"
          }
        },
        "ad16526f74114a60807413c3c1b80bc5": {
          "model_module": "@jupyter-widgets/controls",
          "model_name": "HTMLModel",
          "state": {
            "_view_name": "HTMLView",
            "style": "IPY_MODEL_2ce19d7661cf401f96270aeddb877914",
            "_dom_classes": [],
            "description": "",
            "_model_name": "HTMLModel",
            "placeholder": "​",
            "_view_module": "@jupyter-widgets/controls",
            "_model_module_version": "1.5.0",
            "value": " 528M/528M [00:10&lt;00:00, 51.1MB/s]",
            "_view_count": null,
            "_view_module_version": "1.5.0",
            "description_tooltip": null,
            "_model_module": "@jupyter-widgets/controls",
            "layout": "IPY_MODEL_fc2a77f3763741d69d1f0a038afd6068"
          }
        },
        "e2529cdf213343d6bc5c3b93f8ee6dcb": {
          "model_module": "@jupyter-widgets/controls",
          "model_name": "ProgressStyleModel",
          "state": {
            "_view_name": "StyleView",
            "_model_name": "ProgressStyleModel",
            "description_width": "initial",
            "_view_module": "@jupyter-widgets/base",
            "_model_module_version": "1.5.0",
            "_view_count": null,
            "_view_module_version": "1.2.0",
            "bar_color": null,
            "_model_module": "@jupyter-widgets/controls"
          }
        },
        "ad9b8ebad043431d88d45487a60637ad": {
          "model_module": "@jupyter-widgets/base",
          "model_name": "LayoutModel",
          "state": {
            "_view_name": "LayoutView",
            "grid_template_rows": null,
            "right": null,
            "justify_content": null,
            "_view_module": "@jupyter-widgets/base",
            "overflow": null,
            "_model_module_version": "1.2.0",
            "_view_count": null,
            "flex_flow": null,
            "width": null,
            "min_width": null,
            "border": null,
            "align_items": null,
            "bottom": null,
            "_model_module": "@jupyter-widgets/base",
            "top": null,
            "grid_column": null,
            "overflow_y": null,
            "overflow_x": null,
            "grid_auto_flow": null,
            "grid_area": null,
            "grid_template_columns": null,
            "flex": null,
            "_model_name": "LayoutModel",
            "justify_items": null,
            "grid_row": null,
            "max_height": null,
            "align_content": null,
            "visibility": null,
            "align_self": null,
            "height": null,
            "min_height": null,
            "padding": null,
            "grid_auto_rows": null,
            "grid_gap": null,
            "max_width": null,
            "order": null,
            "_view_module_version": "1.2.0",
            "grid_template_areas": null,
            "object_position": null,
            "object_fit": null,
            "grid_auto_columns": null,
            "margin": null,
            "display": null,
            "left": null
          }
        },
        "2ce19d7661cf401f96270aeddb877914": {
          "model_module": "@jupyter-widgets/controls",
          "model_name": "DescriptionStyleModel",
          "state": {
            "_view_name": "StyleView",
            "_model_name": "DescriptionStyleModel",
            "description_width": "",
            "_view_module": "@jupyter-widgets/base",
            "_model_module_version": "1.5.0",
            "_view_count": null,
            "_view_module_version": "1.2.0",
            "_model_module": "@jupyter-widgets/controls"
          }
        },
        "fc2a77f3763741d69d1f0a038afd6068": {
          "model_module": "@jupyter-widgets/base",
          "model_name": "LayoutModel",
          "state": {
            "_view_name": "LayoutView",
            "grid_template_rows": null,
            "right": null,
            "justify_content": null,
            "_view_module": "@jupyter-widgets/base",
            "overflow": null,
            "_model_module_version": "1.2.0",
            "_view_count": null,
            "flex_flow": null,
            "width": null,
            "min_width": null,
            "border": null,
            "align_items": null,
            "bottom": null,
            "_model_module": "@jupyter-widgets/base",
            "top": null,
            "grid_column": null,
            "overflow_y": null,
            "overflow_x": null,
            "grid_auto_flow": null,
            "grid_area": null,
            "grid_template_columns": null,
            "flex": null,
            "_model_name": "LayoutModel",
            "justify_items": null,
            "grid_row": null,
            "max_height": null,
            "align_content": null,
            "visibility": null,
            "align_self": null,
            "height": null,
            "min_height": null,
            "padding": null,
            "grid_auto_rows": null,
            "grid_gap": null,
            "max_width": null,
            "order": null,
            "_view_module_version": "1.2.0",
            "grid_template_areas": null,
            "object_position": null,
            "object_fit": null,
            "grid_auto_columns": null,
            "margin": null,
            "display": null,
            "left": null
          }
        }
      }
    }
  },
  "cells": [
    {
      "cell_type": "markdown",
      "metadata": {
        "id": "c9QcGnGPdX2C",
        "colab_type": "text"
      },
      "source": [
        "\n",
        "**Install requirements**"
      ]
    },
    {
      "cell_type": "code",
      "metadata": {
        "id": "k9O3aM3Tb28q",
        "colab_type": "code",
        "outputId": "48a21ed8-bb1e-4576-a1c3-58249d98c00e",
        "colab": {
          "base_uri": "https://localhost:8080/",
          "height": 386
        }
      },
      "source": [
        "!pip3 install 'torch==1.3.1'\n",
        "!pip3 install 'torchvision==0.5.0'\n",
        "!pip3 install 'Pillow-SIMD'\n",
        "!pip3 install 'tqdm'"
      ],
      "execution_count": 0,
      "outputs": [
        {
          "output_type": "stream",
          "text": [
            "Collecting torch==1.3.1\n",
            "  Using cached https://files.pythonhosted.org/packages/88/95/90e8c4c31cfc67248bf944ba42029295b77159982f532c5689bcfe4e9108/torch-1.3.1-cp36-cp36m-manylinux1_x86_64.whl\n",
            "Requirement already satisfied: numpy in /usr/local/lib/python3.6/dist-packages (from torch==1.3.1) (1.18.4)\n",
            "\u001b[31mERROR: torchvision 0.5.0 has requirement torch==1.4.0, but you'll have torch 1.3.1 which is incompatible.\u001b[0m\n",
            "Installing collected packages: torch\n",
            "  Found existing installation: torch 1.4.0\n",
            "    Uninstalling torch-1.4.0:\n",
            "      Successfully uninstalled torch-1.4.0\n",
            "Successfully installed torch-1.3.1\n",
            "Requirement already satisfied: torchvision==0.5.0 in /usr/local/lib/python3.6/dist-packages (0.5.0)\n",
            "Requirement already satisfied: pillow>=4.1.1 in /usr/local/lib/python3.6/dist-packages (from torchvision==0.5.0) (7.0.0)\n",
            "Collecting torch==1.4.0\n",
            "  Using cached https://files.pythonhosted.org/packages/24/19/4804aea17cd136f1705a5e98a00618cb8f6ccc375ad8bfa437408e09d058/torch-1.4.0-cp36-cp36m-manylinux1_x86_64.whl\n",
            "Requirement already satisfied: six in /usr/local/lib/python3.6/dist-packages (from torchvision==0.5.0) (1.12.0)\n",
            "Requirement already satisfied: numpy in /usr/local/lib/python3.6/dist-packages (from torchvision==0.5.0) (1.18.4)\n",
            "Installing collected packages: torch\n",
            "  Found existing installation: torch 1.3.1\n",
            "    Uninstalling torch-1.3.1:\n",
            "      Successfully uninstalled torch-1.3.1\n",
            "Successfully installed torch-1.4.0\n",
            "Requirement already satisfied: Pillow-SIMD in /usr/local/lib/python3.6/dist-packages (7.0.0.post3)\n",
            "Requirement already satisfied: tqdm in /usr/local/lib/python3.6/dist-packages (4.41.1)\n"
          ],
          "name": "stdout"
        }
      ]
    },
    {
      "cell_type": "markdown",
      "metadata": {
        "id": "fo942LMOdlh4",
        "colab_type": "text"
      },
      "source": [
        "**Import libraries**"
      ]
    },
    {
      "cell_type": "code",
      "metadata": {
        "id": "DokFOdD1dJEl",
        "colab_type": "code",
        "colab": {}
      },
      "source": [
        "import os\n",
        "import logging\n",
        "\n",
        "import torch\n",
        "import torch.nn as nn\n",
        "import torch.optim as optim\n",
        "from torch.utils.data import Subset, DataLoader, ConcatDataset\n",
        "from torch.backends import cudnn\n",
        "\n",
        "import torchvision\n",
        "from torchvision import transforms\n",
        "from torchvision.models import alexnet\n",
        "from torchvision.models import vgg16\n",
        "\n",
        "from PIL import Image\n",
        "from tqdm import tqdm\n",
        "\n",
        "from torchvision.datasets import VisionDataset\n",
        "import os.path\n",
        "import sys\n",
        "\n",
        "from sklearn.model_selection import train_test_split\n",
        "import numpy as np\n",
        "import copy\n",
        "\n",
        "import matplotlib.pyplot as plt"
      ],
      "execution_count": 0,
      "outputs": []
    },
    {
      "cell_type": "markdown",
      "metadata": {
        "id": "OIDLJuIXK_vh",
        "colab_type": "text"
      },
      "source": [
        "**Set Arguments**"
      ]
    },
    {
      "cell_type": "code",
      "metadata": {
        "id": "d5PkYfqfK_SA",
        "colab_type": "code",
        "colab": {}
      },
      "source": [
        "DEVICE = 'cuda' # 'cuda' or 'cpu'\n",
        "\n",
        "NUM_CLASSES = 101 # 101 + 1: There is am extra Background class that should be removed \n",
        "\n",
        "# DEFAULT VALUES\n",
        "\n",
        "#BATCH_SIZE = 256     # Higher batch sizes allows for larger learning rates. An empirical heuristic suggests that, when changing\n",
        "                     # the batch size, learning rate should change by the same factor to have comparable results\n",
        "\n",
        "LR = 0.001            # The initial Learning Rate\n",
        "MOMENTUM = 0.9       # Hyperparameter for SGD, keep this at 0.9 when using SGD\n",
        "WEIGHT_DECAY = 5e-5  # Regularization, you can keep this at the default\n",
        "\n",
        "#NUM_EPOCHS = 30      # Total number of training epochs (iterations over dataset)\n",
        "STEP_SIZE = 20       # How many epochs before decreasing learning rate (if using a step-down policy)\n",
        "GAMMA = 0.1          # Multiplicative factor for learning rate step-down\n",
        "\n",
        "LOG_FREQUENCY = 10\n",
        "\n",
        "# SECOND CONFIGURATION\n",
        "#LR = 0.01           \n",
        "#NUM_EPOCHS = 40\n",
        "#GAMMA = 0.1\n",
        "\n",
        "# THIRD CONFIGURATION\n",
        "#LR = 0.01           \n",
        "#NUM_EPOCHS = 30\n",
        "#GAMMA = 0.2\n",
        "\n",
        "# FOURTH CONFIGURATION\n",
        "#LR = 0.01           \n",
        "#NUM_EPOCHS = 30\n",
        "#GAMMA = 0.8\n",
        "\n",
        "# THIRD CONFIGURATION - Transfer Learning\n",
        "#LR = 0.01           \n",
        "#NUM_EPOCHS = 30\n",
        "#STEP_SIZE = 10\n",
        "#GAMMA = 0.8\n",
        "\n",
        "transferLearning = True #True if we use Transfer Learning, False otherwise\n",
        "\n",
        "train_freeze = \"all\" \n",
        "# \"all\" train all layers\n",
        "# \"fc\" train only fully connected layers and freeze other layers\n",
        "# \"cl\" train only convolutional layers and freeze other layers\n",
        "\n",
        "#### VGGNet ####\n",
        "\n",
        "network = \"vgg\"\n",
        "# \"alex\" if AlexNet is the network that we want to use\n",
        "# \"vgg\" if VGGs is the network that we want to use\n",
        "\n",
        "BATCH_SIZE = 16\n",
        "NUM_EPOCHS = 10"
      ],
      "execution_count": 0,
      "outputs": []
    },
    {
      "cell_type": "markdown",
      "metadata": {
        "id": "9gwii0TBHvzh",
        "colab_type": "text"
      },
      "source": [
        "**Define Data Preprocessing**"
      ]
    },
    {
      "cell_type": "code",
      "metadata": {
        "id": "QUDdw4j2H0Mc",
        "colab_type": "code",
        "colab": {}
      },
      "source": [
        "if transferLearning: # ImageNet\n",
        "  mean = (0.485, 0.456, 0.406)\n",
        "  std = (0.229, 0.224, 0.225)\n",
        "else:\n",
        "  mean = (0.5, 0.5, 0.5)\n",
        "  std = (0.5, 0.5, 0.5)\n",
        "\n",
        "\n",
        "# Define transforms for training phase\n",
        "train_transform = transforms.Compose([transforms.Resize(256),      # Resizes short size of the PIL image to 256\n",
        "                                      transforms.CenterCrop(224),  # Crops a central square patch of the image\n",
        "                                                                   # 224 because torchvision's AlexNet needs a 224x224 input!\n",
        "                                                                   # Remember this when applying different transformations, otherwise you get an error\n",
        "                                      transforms.ToTensor(), # Turn PIL Image to torch.Tensor\n",
        "                                      transforms.Normalize(mean, std) # Normalizes tensor with mean and standard deviation\n",
        "])\n",
        "# Define transforms for the evaluation phase\n",
        "eval_transform = transforms.Compose([transforms.Resize(256),\n",
        "                                      transforms.CenterCrop(224),\n",
        "                                      transforms.ToTensor(),\n",
        "                                      transforms.Normalize(mean, std)                                    \n",
        "])\n",
        "\n",
        "\n",
        "augmentation_transform1 = transforms.Compose([transforms.Resize(256),      \n",
        "                                      transforms.RandomCrop(224),                      \n",
        "                                      transforms.ToTensor(), \n",
        "                                      transforms.Normalize(mean, std)\n",
        "])\n",
        "\n",
        "augmentation_transform2 = transforms.Compose([transforms.Resize(256),      \n",
        "                                      transforms.RandomHorizontalFlip(),\n",
        "                                      transforms.CenterCrop(224),                  \n",
        "                                      transforms.ToTensor(), \n",
        "                                      transforms.Normalize(mean, std)\n",
        "])\n",
        "\n",
        "augmentation_transform3 = transforms.Compose([transforms.Resize(256),      \n",
        "                                      transforms.RandomHorizontalFlip(),\n",
        "                                      transforms.ColorJitter(brightness=20, contrast=10, saturation=30),\n",
        "                                      transforms.CenterCrop(224),                  \n",
        "                                      transforms.ToTensor(), \n",
        "                                      transforms.Normalize(mean, std)\n",
        "])"
      ],
      "execution_count": 0,
      "outputs": []
    },
    {
      "cell_type": "markdown",
      "metadata": {
        "id": "2qYIHPzYLY7i",
        "colab_type": "text"
      },
      "source": [
        "**Prepare Dataset**"
      ]
    },
    {
      "cell_type": "code",
      "metadata": {
        "id": "k-NkOw7A35ET",
        "colab_type": "code",
        "colab": {}
      },
      "source": [
        "def pil_loader(path):\n",
        "    # open path as file to avoid ResourceWarning (https://github.com/python-pillow/Pillow/issues/835)\n",
        "    with open(path, 'rb') as f:\n",
        "        img = Image.open(f)\n",
        "        return img.convert('RGB')\n",
        "\n",
        "def getDataset(dir, indexClass, split=\"train\"):\n",
        "    dataset = []\n",
        "\n",
        "    path = os.path.join(dir, split+\".txt\")\n",
        "    with open(path, \"r\") as f:\n",
        "        imgs = f.read().splitlines()\n",
        "\n",
        "    for img in sorted(imgs):\n",
        "        label = img.split(\"/\")[0]\n",
        "\n",
        "        if label != \"BACKGROUND_Google\":\n",
        "            image = pil_loader(dir+\"101_ObjectCategories/\"+img)\n",
        "            item = (image, indexClass[label])\n",
        "            dataset.append(item)\n",
        "  \n",
        "    return dataset # tuple (image, index)\n",
        "\n",
        "\n",
        "\n",
        "class Caltech(VisionDataset):\n",
        "    def __init__(self, root, split='train', transform=None, target_transform=None):\n",
        "        super(Caltech, self).__init__(root, transform=transform, target_transform=target_transform)\n",
        "\n",
        "        self.split = split # This defines the split you are going to use\n",
        "                           # (split files are called 'train.txt' and 'test.txt')\n",
        "\n",
        "        '''\n",
        "        - Here you should implement the logic for reading the splits files and accessing elements\n",
        "        - If the RAM size allows it, it is faster to store all data in memory\n",
        "        - PyTorch Dataset classes use indexes to read elements\n",
        "        - You should provide a way for the __getitem__ method to access the image-label pair\n",
        "          through the index\n",
        "        - Labels should start from 0, so for Caltech you will have lables 0...100 (excluding the background class) \n",
        "        '''\n",
        "        classes, indexClass = self._getClasses(self.root)\n",
        "        dataset = getDataset(self.root, indexClass, split=self.split)\n",
        "\n",
        "        self.classes = classes\n",
        "        self.indexClass = indexClass\n",
        "        self.dataset = dataset\n",
        "\n",
        "    def _getClasses(self, dir):\n",
        "        classes = os.listdir(dir+\"101_ObjectCategories\")\n",
        "        classes.remove(\"BACKGROUND_Google\")\n",
        "        classes.sort()\n",
        "        indexClass = {classes[i]: i for i in range(len(classes))}\n",
        "\n",
        "        return classes, indexClass\n",
        "\n",
        "    def __getitem__(self, index):\n",
        "        '''\n",
        "        __getitem__ should access an element through its index\n",
        "        Args:\n",
        "            index (int): Index\n",
        "        Returns:\n",
        "            tuple: (sample, target) where target is class_index of the target class.\n",
        "        '''\n",
        "\n",
        "        image, label = self.dataset[index] # Provide a way to access image and label via index\n",
        "                           # Image should be a PIL Image\n",
        "                           # label can be int\n",
        "\n",
        "        # Applies preprocessing when accessing the image\n",
        "        if self.transform is not None:\n",
        "            image = self.transform(image)\n",
        "\n",
        "        return image, label\n",
        "\n",
        "    def __len__(self):\n",
        "        '''\n",
        "        The __len__ method returns the length of the dataset\n",
        "        It is mandatory, as this is used by several other components\n",
        "        '''\n",
        "        length = len(self.dataset) # Provide a way to get the length (number of elements) of the dataset\n",
        "        return length"
      ],
      "execution_count": 0,
      "outputs": []
    },
    {
      "cell_type": "code",
      "metadata": {
        "id": "QfVq_uDHLbsR",
        "colab_type": "code",
        "outputId": "0063da9b-f076-4a3b-8167-76144a2e4322",
        "colab": {
          "base_uri": "https://localhost:8080/",
          "height": 50
        }
      },
      "source": [
        "# Clone github repository with data\n",
        "if not os.path.isdir('./Caltech101'):\n",
        "  !git clone https://github.com/MachineLearning2020/Homework2-Caltech101.git\n",
        "  !mv 'Homework2-Caltech101' 'Caltech101'\n",
        "\n",
        "DATA_DIR = 'Caltech101/'\n",
        "\n",
        "# Prepare Pytorch train/test Datasets\n",
        "train_dataset = Caltech(DATA_DIR, split='train',  transform=train_transform) # we will use this dataset to not apply data augmentation to the validation set\n",
        "\n",
        "#train_dataset_transf = Caltech(DATA_DIR, split='train',  transform=augmentation_transform1) # we will need this for data augmentation\n",
        "test_dataset = Caltech(DATA_DIR, split='test', transform=eval_transform)\n",
        "\n",
        "\n",
        "#train_indexes = # split the indices for your train split\n",
        "#val_indexes = # split the indices for your val split\n",
        "\n",
        "#train_dataset = Subset(train_dataset, train_indexes)\n",
        "#val_dataset = Subset(train_dataset, val_indexes)\n",
        "\n",
        "# Check dataset sizes\n",
        "print('Train Dataset: {}'.format(len(train_dataset)))\n",
        "#print('Valid Dataset: {}'.format(len(val_dataset)))\n",
        "print('Test Dataset: {}'.format(len(test_dataset)))"
      ],
      "execution_count": 5,
      "outputs": [
        {
          "output_type": "stream",
          "text": [
            "Train Dataset: 5784\n",
            "Test Dataset: 2893\n"
          ],
          "name": "stdout"
        }
      ]
    },
    {
      "cell_type": "code",
      "metadata": {
        "id": "aU7kQOJEif9h",
        "colab_type": "code",
        "outputId": "230c3b8f-7452-4a9d-dc2b-3a2732a94ac9",
        "colab": {
          "base_uri": "https://localhost:8080/",
          "height": 121
        }
      },
      "source": [
        "targets = [train_dataset[i][1] for i in range(len(train_dataset))]\n",
        "\n",
        "train_indexes, val_indexes = train_test_split(np.arange(len(targets)), test_size = 0.5, shuffle=True, stratify=targets, random_state=42)\n",
        "print(sorted(train_indexes))\n",
        "print(train_indexes)\n",
        "print()\n",
        "print(sorted(val_indexes))\n",
        "print(val_indexes)"
      ],
      "execution_count": 6,
      "outputs": [
        {
          "output_type": "stream",
          "text": [
            "[3, 5, 6, 7, 9, 10, 15, 16, 17, 18, 19, 20, 21, 22, 23, 24, 25, 30, 31, 33, 37, 39, 42, 45, 46, 48, 54, 55, 56, 57, 59, 60, 63, 66, 67, 68, 69, 72, 73, 75, 76, 77, 78, 79, 81, 82, 84, 86, 90, 92, 93, 94, 96, 97, 99, 101, 104, 106, 108, 109, 110, 111, 113, 114, 116, 118, 119, 121, 124, 125, 126, 132, 137, 139, 140, 143, 144, 145, 146, 148, 149, 152, 153, 155, 157, 158, 163, 164, 165, 166, 167, 172, 173, 175, 176, 177, 179, 181, 182, 183, 185, 188, 191, 193, 194, 195, 199, 202, 203, 204, 208, 209, 210, 218, 219, 220, 221, 222, 225, 226, 227, 229, 231, 237, 243, 244, 248, 250, 253, 254, 257, 260, 261, 262, 266, 270, 273, 274, 275, 276, 277, 278, 279, 287, 288, 292, 296, 298, 300, 303, 306, 307, 310, 314, 316, 317, 319, 320, 321, 324, 326, 327, 329, 330, 331, 332, 333, 334, 335, 339, 345, 346, 348, 350, 353, 355, 357, 360, 361, 362, 364, 366, 367, 368, 370, 371, 372, 376, 377, 380, 384, 386, 387, 391, 394, 396, 399, 400, 401, 402, 404, 408, 410, 412, 419, 420, 421, 422, 423, 424, 425, 428, 430, 435, 437, 438, 445, 446, 448, 449, 450, 451, 452, 453, 454, 455, 456, 460, 464, 466, 467, 471, 473, 476, 482, 484, 486, 487, 488, 489, 493, 494, 497, 498, 500, 502, 503, 505, 506, 507, 508, 509, 511, 515, 517, 518, 519, 520, 523, 526, 527, 528, 529, 530, 531, 532, 533, 534, 537, 539, 540, 541, 542, 543, 544, 547, 548, 551, 552, 556, 557, 558, 559, 561, 563, 568, 571, 573, 575, 579, 581, 583, 584, 586, 588, 590, 601, 602, 605, 609, 613, 616, 617, 618, 619, 621, 622, 627, 630, 631, 632, 634, 638, 641, 644, 646, 647, 649, 650, 656, 657, 658, 660, 661, 662, 663, 665, 667, 668, 671, 672, 673, 674, 676, 677, 679, 682, 683, 685, 686, 687, 688, 689, 691, 693, 694, 695, 699, 700, 701, 702, 704, 705, 706, 708, 711, 714, 721, 723, 728, 729, 730, 731, 733, 735, 736, 739, 741, 744, 745, 749, 753, 756, 757, 761, 762, 764, 767, 769, 770, 771, 775, 776, 777, 778, 783, 784, 786, 789, 791, 792, 794, 797, 799, 800, 801, 803, 808, 809, 811, 812, 814, 816, 817, 820, 822, 826, 827, 828, 829, 832, 835, 836, 837, 840, 841, 843, 847, 848, 853, 855, 856, 859, 860, 861, 865, 868, 869, 870, 871, 874, 875, 876, 879, 881, 883, 886, 887, 888, 889, 891, 893, 894, 897, 898, 900, 901, 902, 903, 905, 908, 909, 911, 912, 913, 916, 918, 920, 921, 922, 923, 927, 929, 931, 933, 934, 936, 942, 944, 946, 949, 953, 954, 956, 957, 958, 960, 962, 963, 964, 966, 967, 968, 970, 972, 975, 978, 981, 983, 984, 988, 990, 991, 992, 995, 996, 998, 999, 1000, 1002, 1003, 1007, 1008, 1009, 1010, 1011, 1016, 1019, 1021, 1022, 1025, 1026, 1028, 1035, 1036, 1037, 1040, 1041, 1044, 1045, 1046, 1050, 1055, 1056, 1057, 1059, 1060, 1063, 1065, 1066, 1069, 1070, 1073, 1074, 1076, 1078, 1079, 1080, 1081, 1082, 1089, 1090, 1091, 1093, 1094, 1095, 1096, 1097, 1099, 1102, 1103, 1105, 1107, 1108, 1110, 1111, 1116, 1120, 1121, 1122, 1124, 1126, 1129, 1130, 1131, 1133, 1135, 1136, 1137, 1138, 1142, 1144, 1148, 1149, 1153, 1154, 1155, 1161, 1163, 1164, 1167, 1168, 1169, 1172, 1173, 1174, 1175, 1178, 1179, 1180, 1181, 1185, 1186, 1189, 1190, 1195, 1196, 1197, 1199, 1200, 1201, 1202, 1205, 1206, 1208, 1209, 1213, 1215, 1217, 1219, 1221, 1224, 1226, 1227, 1228, 1230, 1231, 1232, 1233, 1240, 1242, 1243, 1245, 1246, 1247, 1248, 1249, 1250, 1251, 1252, 1255, 1257, 1259, 1260, 1264, 1265, 1269, 1273, 1276, 1277, 1281, 1282, 1286, 1288, 1290, 1293, 1298, 1299, 1301, 1302, 1303, 1304, 1308, 1310, 1311, 1312, 1313, 1315, 1323, 1325, 1326, 1328, 1329, 1330, 1331, 1333, 1336, 1338, 1340, 1344, 1346, 1347, 1350, 1351, 1354, 1355, 1356, 1357, 1358, 1359, 1363, 1364, 1365, 1367, 1368, 1371, 1372, 1373, 1374, 1375, 1377, 1380, 1386, 1389, 1390, 1392, 1396, 1398, 1399, 1401, 1402, 1405, 1406, 1407, 1408, 1412, 1413, 1414, 1415, 1416, 1418, 1419, 1424, 1427, 1430, 1431, 1435, 1436, 1437, 1442, 1443, 1445, 1446, 1447, 1449, 1453, 1454, 1455, 1459, 1460, 1461, 1462, 1464, 1466, 1469, 1470, 1471, 1472, 1474, 1476, 1477, 1482, 1483, 1484, 1485, 1486, 1487, 1488, 1489, 1491, 1492, 1493, 1494, 1499, 1500, 1501, 1502, 1505, 1508, 1510, 1511, 1513, 1514, 1515, 1517, 1518, 1520, 1522, 1528, 1529, 1532, 1533, 1534, 1535, 1536, 1537, 1538, 1543, 1545, 1551, 1557, 1558, 1559, 1560, 1561, 1564, 1565, 1570, 1574, 1577, 1578, 1579, 1580, 1584, 1586, 1587, 1588, 1596, 1597, 1600, 1602, 1603, 1605, 1606, 1607, 1609, 1611, 1612, 1616, 1618, 1623, 1625, 1626, 1627, 1628, 1631, 1632, 1633, 1637, 1638, 1640, 1641, 1642, 1646, 1650, 1653, 1661, 1662, 1663, 1664, 1665, 1667, 1668, 1669, 1672, 1673, 1675, 1677, 1678, 1680, 1683, 1684, 1685, 1688, 1691, 1695, 1696, 1698, 1699, 1700, 1701, 1702, 1703, 1704, 1708, 1710, 1712, 1714, 1718, 1720, 1724, 1727, 1729, 1732, 1733, 1734, 1737, 1738, 1739, 1740, 1742, 1743, 1744, 1745, 1749, 1752, 1753, 1757, 1759, 1760, 1763, 1765, 1768, 1769, 1771, 1774, 1776, 1777, 1778, 1779, 1780, 1782, 1783, 1787, 1790, 1791, 1798, 1799, 1800, 1801, 1803, 1805, 1806, 1807, 1808, 1809, 1813, 1815, 1816, 1818, 1821, 1822, 1825, 1827, 1828, 1829, 1831, 1834, 1839, 1841, 1842, 1843, 1845, 1847, 1848, 1849, 1850, 1852, 1853, 1855, 1856, 1858, 1863, 1867, 1869, 1876, 1877, 1879, 1881, 1883, 1888, 1889, 1892, 1893, 1894, 1895, 1897, 1898, 1899, 1900, 1907, 1908, 1910, 1918, 1919, 1920, 1921, 1922, 1926, 1927, 1928, 1930, 1932, 1933, 1934, 1935, 1936, 1937, 1938, 1940, 1941, 1944, 1945, 1947, 1948, 1950, 1953, 1956, 1957, 1958, 1959, 1963, 1965, 1969, 1971, 1972, 1973, 1974, 1975, 1976, 1981, 1985, 1988, 1990, 1993, 1994, 1997, 2000, 2001, 2002, 2005, 2008, 2010, 2011, 2012, 2013, 2014, 2017, 2022, 2025, 2026, 2027, 2028, 2029, 2030, 2032, 2034, 2035, 2039, 2044, 2046, 2048, 2049, 2050, 2051, 2052, 2054, 2057, 2059, 2061, 2062, 2063, 2064, 2065, 2066, 2069, 2075, 2076, 2078, 2082, 2084, 2085, 2088, 2089, 2092, 2093, 2094, 2095, 2097, 2099, 2102, 2105, 2106, 2107, 2108, 2110, 2113, 2115, 2116, 2117, 2124, 2126, 2129, 2130, 2132, 2133, 2134, 2135, 2137, 2139, 2142, 2143, 2145, 2146, 2148, 2149, 2154, 2156, 2158, 2159, 2161, 2162, 2163, 2168, 2170, 2171, 2172, 2175, 2176, 2178, 2180, 2181, 2182, 2183, 2184, 2189, 2191, 2197, 2198, 2199, 2200, 2201, 2207, 2209, 2210, 2213, 2216, 2217, 2219, 2220, 2222, 2224, 2225, 2227, 2233, 2236, 2237, 2238, 2240, 2241, 2242, 2243, 2244, 2245, 2246, 2249, 2250, 2251, 2252, 2254, 2255, 2256, 2257, 2261, 2264, 2269, 2270, 2273, 2275, 2279, 2280, 2283, 2286, 2288, 2289, 2290, 2295, 2296, 2297, 2299, 2300, 2301, 2302, 2303, 2311, 2312, 2315, 2316, 2318, 2320, 2322, 2325, 2327, 2328, 2330, 2333, 2334, 2336, 2337, 2339, 2341, 2342, 2346, 2347, 2353, 2357, 2359, 2360, 2365, 2366, 2367, 2370, 2371, 2372, 2374, 2375, 2376, 2377, 2378, 2380, 2385, 2386, 2387, 2388, 2390, 2391, 2392, 2393, 2395, 2397, 2399, 2401, 2403, 2404, 2405, 2406, 2408, 2409, 2410, 2411, 2412, 2417, 2418, 2420, 2429, 2431, 2432, 2438, 2439, 2440, 2441, 2442, 2443, 2445, 2446, 2451, 2452, 2453, 2455, 2456, 2462, 2464, 2468, 2469, 2470, 2471, 2472, 2474, 2476, 2477, 2478, 2481, 2484, 2486, 2487, 2491, 2492, 2493, 2496, 2499, 2502, 2503, 2504, 2505, 2507, 2508, 2510, 2515, 2517, 2519, 2521, 2526, 2527, 2528, 2531, 2533, 2537, 2539, 2540, 2541, 2542, 2543, 2548, 2554, 2555, 2558, 2560, 2561, 2562, 2564, 2565, 2566, 2568, 2569, 2571, 2575, 2576, 2577, 2579, 2581, 2584, 2585, 2587, 2588, 2592, 2595, 2597, 2598, 2599, 2604, 2605, 2606, 2608, 2609, 2611, 2613, 2614, 2615, 2617, 2618, 2619, 2620, 2623, 2624, 2629, 2630, 2631, 2633, 2634, 2636, 2638, 2639, 2640, 2651, 2652, 2654, 2657, 2658, 2659, 2660, 2662, 2663, 2665, 2666, 2667, 2669, 2671, 2672, 2676, 2677, 2679, 2686, 2687, 2688, 2689, 2690, 2692, 2693, 2694, 2696, 2698, 2699, 2700, 2703, 2706, 2709, 2713, 2714, 2718, 2720, 2721, 2723, 2724, 2725, 2727, 2729, 2735, 2737, 2738, 2739, 2741, 2742, 2743, 2745, 2747, 2748, 2749, 2750, 2752, 2753, 2761, 2762, 2763, 2764, 2765, 2766, 2769, 2772, 2775, 2779, 2782, 2783, 2785, 2788, 2794, 2797, 2798, 2799, 2801, 2802, 2803, 2805, 2808, 2809, 2810, 2811, 2817, 2818, 2819, 2820, 2821, 2822, 2823, 2825, 2827, 2828, 2835, 2837, 2839, 2840, 2841, 2843, 2847, 2849, 2852, 2853, 2854, 2856, 2858, 2860, 2862, 2864, 2865, 2867, 2869, 2870, 2874, 2876, 2881, 2882, 2883, 2884, 2885, 2887, 2889, 2892, 2895, 2896, 2900, 2901, 2903, 2905, 2906, 2910, 2912, 2915, 2917, 2918, 2919, 2920, 2921, 2923, 2924, 2928, 2929, 2931, 2933, 2936, 2940, 2941, 2945, 2949, 2950, 2951, 2952, 2953, 2955, 2957, 2958, 2959, 2963, 2968, 2969, 2970, 2971, 2975, 2980, 2981, 2984, 2985, 2986, 2988, 2990, 2992, 2993, 2995, 2996, 2997, 3000, 3002, 3003, 3004, 3005, 3008, 3009, 3010, 3012, 3015, 3016, 3021, 3022, 3024, 3027, 3028, 3029, 3030, 3031, 3035, 3036, 3037, 3038, 3046, 3049, 3050, 3051, 3054, 3055, 3056, 3059, 3060, 3063, 3064, 3070, 3072, 3073, 3074, 3079, 3081, 3084, 3085, 3086, 3089, 3091, 3092, 3096, 3098, 3099, 3100, 3102, 3103, 3105, 3106, 3107, 3108, 3110, 3111, 3112, 3113, 3114, 3115, 3117, 3119, 3120, 3121, 3122, 3123, 3125, 3126, 3128, 3131, 3136, 3138, 3139, 3143, 3149, 3151, 3153, 3157, 3158, 3159, 3162, 3164, 3165, 3167, 3168, 3169, 3170, 3171, 3172, 3174, 3175, 3176, 3182, 3184, 3190, 3191, 3193, 3194, 3195, 3198, 3199, 3204, 3206, 3207, 3208, 3209, 3213, 3214, 3215, 3217, 3219, 3225, 3226, 3227, 3228, 3232, 3233, 3234, 3235, 3239, 3240, 3241, 3245, 3246, 3254, 3258, 3260, 3261, 3262, 3264, 3266, 3269, 3271, 3273, 3274, 3276, 3278, 3279, 3280, 3281, 3282, 3283, 3285, 3286, 3290, 3293, 3294, 3296, 3297, 3298, 3299, 3300, 3301, 3303, 3304, 3308, 3309, 3311, 3316, 3318, 3321, 3322, 3325, 3329, 3330, 3331, 3336, 3339, 3340, 3341, 3342, 3343, 3346, 3350, 3351, 3352, 3354, 3356, 3360, 3363, 3365, 3366, 3368, 3369, 3371, 3372, 3373, 3375, 3379, 3382, 3384, 3385, 3386, 3387, 3388, 3389, 3390, 3392, 3393, 3394, 3396, 3402, 3405, 3407, 3408, 3412, 3413, 3414, 3415, 3418, 3420, 3421, 3422, 3425, 3426, 3430, 3436, 3437, 3440, 3442, 3443, 3444, 3445, 3446, 3447, 3448, 3449, 3453, 3456, 3457, 3458, 3459, 3460, 3461, 3467, 3468, 3470, 3476, 3477, 3478, 3480, 3482, 3483, 3485, 3487, 3488, 3489, 3490, 3493, 3495, 3496, 3499, 3500, 3501, 3502, 3504, 3508, 3509, 3511, 3515, 3516, 3517, 3519, 3521, 3524, 3526, 3527, 3529, 3530, 3532, 3535, 3538, 3539, 3542, 3543, 3547, 3552, 3553, 3556, 3557, 3558, 3561, 3563, 3566, 3567, 3569, 3570, 3572, 3575, 3577, 3579, 3580, 3585, 3586, 3589, 3590, 3591, 3592, 3596, 3600, 3601, 3603, 3604, 3606, 3609, 3612, 3614, 3615, 3616, 3617, 3619, 3621, 3622, 3623, 3625, 3627, 3629, 3632, 3633, 3636, 3639, 3640, 3644, 3645, 3648, 3649, 3651, 3652, 3653, 3655, 3657, 3658, 3660, 3661, 3662, 3664, 3666, 3673, 3675, 3679, 3680, 3682, 3684, 3685, 3686, 3689, 3691, 3692, 3695, 3696, 3698, 3702, 3703, 3707, 3709, 3712, 3715, 3717, 3718, 3719, 3721, 3722, 3724, 3725, 3726, 3727, 3728, 3729, 3732, 3733, 3735, 3736, 3742, 3743, 3746, 3747, 3749, 3751, 3756, 3757, 3763, 3764, 3767, 3768, 3770, 3772, 3775, 3776, 3780, 3781, 3783, 3787, 3788, 3789, 3790, 3791, 3792, 3793, 3795, 3796, 3798, 3801, 3803, 3804, 3805, 3808, 3809, 3810, 3814, 3816, 3820, 3822, 3823, 3824, 3831, 3833, 3834, 3836, 3838, 3841, 3842, 3843, 3844, 3845, 3846, 3848, 3849, 3854, 3855, 3856, 3859, 3860, 3863, 3864, 3868, 3872, 3875, 3876, 3877, 3878, 3879, 3882, 3884, 3885, 3888, 3889, 3892, 3895, 3896, 3897, 3898, 3902, 3903, 3904, 3906, 3907, 3911, 3913, 3916, 3917, 3918, 3919, 3922, 3923, 3924, 3927, 3928, 3931, 3932, 3934, 3938, 3939, 3940, 3944, 3945, 3950, 3951, 3952, 3954, 3955, 3957, 3958, 3959, 3960, 3963, 3968, 3970, 3971, 3976, 3978, 3981, 3982, 3984, 3988, 3989, 3990, 3994, 3996, 4000, 4003, 4005, 4010, 4011, 4012, 4013, 4015, 4016, 4018, 4019, 4021, 4022, 4024, 4026, 4030, 4031, 4032, 4034, 4036, 4037, 4038, 4040, 4043, 4044, 4047, 4048, 4051, 4053, 4054, 4055, 4056, 4060, 4063, 4065, 4071, 4072, 4073, 4074, 4075, 4079, 4080, 4081, 4082, 4084, 4087, 4088, 4089, 4092, 4096, 4097, 4099, 4103, 4104, 4108, 4110, 4111, 4113, 4114, 4116, 4118, 4119, 4120, 4122, 4123, 4124, 4127, 4128, 4129, 4135, 4136, 4139, 4140, 4141, 4142, 4149, 4150, 4152, 4153, 4154, 4156, 4157, 4160, 4163, 4166, 4168, 4169, 4171, 4172, 4174, 4176, 4177, 4180, 4183, 4184, 4185, 4189, 4191, 4193, 4194, 4196, 4200, 4204, 4207, 4208, 4209, 4212, 4213, 4214, 4219, 4220, 4221, 4223, 4225, 4228, 4229, 4230, 4231, 4232, 4236, 4238, 4239, 4240, 4243, 4244, 4245, 4247, 4250, 4251, 4254, 4258, 4259, 4260, 4261, 4263, 4274, 4276, 4280, 4282, 4286, 4289, 4291, 4293, 4294, 4295, 4297, 4298, 4299, 4301, 4303, 4304, 4306, 4307, 4309, 4310, 4311, 4314, 4315, 4316, 4317, 4319, 4321, 4322, 4323, 4326, 4331, 4332, 4333, 4334, 4335, 4337, 4339, 4342, 4343, 4344, 4345, 4348, 4353, 4355, 4357, 4358, 4359, 4363, 4365, 4366, 4367, 4368, 4374, 4376, 4378, 4379, 4380, 4381, 4382, 4383, 4384, 4387, 4389, 4391, 4393, 4394, 4398, 4400, 4402, 4403, 4404, 4406, 4407, 4409, 4412, 4413, 4415, 4418, 4419, 4423, 4425, 4427, 4429, 4431, 4432, 4433, 4438, 4439, 4443, 4444, 4445, 4446, 4451, 4452, 4453, 4454, 4458, 4459, 4461, 4464, 4465, 4467, 4471, 4474, 4476, 4477, 4478, 4479, 4481, 4483, 4486, 4488, 4490, 4492, 4493, 4496, 4497, 4498, 4499, 4501, 4504, 4506, 4509, 4511, 4513, 4515, 4519, 4521, 4522, 4525, 4526, 4528, 4529, 4531, 4532, 4534, 4537, 4539, 4544, 4545, 4546, 4547, 4548, 4549, 4550, 4554, 4556, 4559, 4561, 4562, 4566, 4567, 4569, 4570, 4573, 4575, 4576, 4578, 4579, 4582, 4585, 4586, 4587, 4589, 4593, 4594, 4595, 4598, 4599, 4601, 4605, 4606, 4609, 4611, 4613, 4614, 4615, 4619, 4620, 4622, 4624, 4626, 4628, 4630, 4631, 4633, 4637, 4638, 4641, 4643, 4645, 4646, 4648, 4649, 4650, 4651, 4652, 4654, 4656, 4661, 4665, 4667, 4669, 4671, 4672, 4673, 4675, 4677, 4679, 4681, 4682, 4683, 4685, 4686, 4690, 4691, 4693, 4694, 4695, 4696, 4698, 4699, 4700, 4703, 4704, 4708, 4715, 4719, 4721, 4722, 4723, 4725, 4727, 4729, 4732, 4734, 4737, 4739, 4741, 4742, 4744, 4745, 4747, 4752, 4753, 4755, 4758, 4759, 4763, 4767, 4768, 4769, 4771, 4775, 4776, 4778, 4779, 4780, 4781, 4785, 4786, 4787, 4790, 4791, 4792, 4793, 4794, 4796, 4797, 4799, 4804, 4805, 4808, 4810, 4814, 4815, 4816, 4819, 4822, 4823, 4825, 4826, 4828, 4829, 4832, 4833, 4834, 4836, 4837, 4840, 4841, 4846, 4848, 4850, 4851, 4852, 4854, 4859, 4860, 4862, 4863, 4868, 4869, 4870, 4871, 4874, 4876, 4879, 4881, 4882, 4885, 4886, 4887, 4889, 4890, 4891, 4892, 4893, 4894, 4897, 4902, 4903, 4904, 4905, 4910, 4913, 4914, 4918, 4921, 4922, 4923, 4924, 4925, 4927, 4931, 4935, 4936, 4937, 4938, 4942, 4943, 4944, 4946, 4947, 4948, 4949, 4950, 4951, 4954, 4956, 4957, 4958, 4960, 4967, 4975, 4976, 4977, 4978, 4981, 4982, 4983, 4984, 4985, 4988, 4989, 4992, 4996, 4998, 5001, 5003, 5005, 5006, 5007, 5008, 5011, 5012, 5014, 5017, 5020, 5021, 5023, 5026, 5027, 5030, 5033, 5035, 5036, 5037, 5039, 5044, 5046, 5048, 5049, 5053, 5054, 5058, 5061, 5062, 5066, 5067, 5068, 5069, 5072, 5073, 5075, 5078, 5081, 5082, 5083, 5084, 5087, 5089, 5090, 5091, 5094, 5095, 5096, 5100, 5102, 5104, 5105, 5109, 5114, 5115, 5116, 5117, 5120, 5121, 5123, 5125, 5126, 5127, 5129, 5133, 5134, 5135, 5142, 5143, 5146, 5147, 5152, 5153, 5154, 5160, 5161, 5162, 5163, 5164, 5165, 5166, 5169, 5170, 5171, 5172, 5173, 5175, 5178, 5182, 5184, 5186, 5189, 5190, 5194, 5195, 5199, 5200, 5201, 5204, 5206, 5207, 5208, 5212, 5213, 5214, 5216, 5217, 5218, 5220, 5223, 5224, 5225, 5230, 5231, 5233, 5235, 5237, 5239, 5240, 5241, 5242, 5243, 5244, 5245, 5251, 5257, 5259, 5261, 5262, 5263, 5264, 5265, 5266, 5269, 5273, 5274, 5276, 5278, 5279, 5284, 5286, 5287, 5290, 5291, 5292, 5294, 5295, 5298, 5299, 5304, 5306, 5307, 5308, 5309, 5310, 5314, 5316, 5317, 5319, 5322, 5324, 5326, 5329, 5330, 5332, 5333, 5334, 5337, 5338, 5340, 5342, 5347, 5348, 5349, 5352, 5353, 5356, 5357, 5361, 5364, 5370, 5371, 5372, 5374, 5376, 5377, 5378, 5380, 5382, 5383, 5390, 5391, 5392, 5393, 5394, 5395, 5397, 5400, 5401, 5402, 5403, 5411, 5412, 5413, 5416, 5419, 5421, 5422, 5425, 5426, 5427, 5429, 5430, 5431, 5433, 5435, 5437, 5438, 5441, 5443, 5444, 5446, 5450, 5452, 5453, 5458, 5459, 5462, 5463, 5466, 5467, 5470, 5473, 5475, 5477, 5478, 5480, 5482, 5484, 5487, 5491, 5498, 5500, 5501, 5502, 5504, 5505, 5508, 5509, 5511, 5516, 5517, 5518, 5519, 5521, 5522, 5525, 5526, 5529, 5530, 5531, 5532, 5534, 5539, 5541, 5544, 5548, 5549, 5550, 5552, 5554, 5558, 5560, 5561, 5564, 5566, 5567, 5570, 5571, 5572, 5575, 5576, 5578, 5581, 5582, 5583, 5584, 5585, 5586, 5587, 5588, 5589, 5591, 5592, 5593, 5594, 5596, 5600, 5602, 5604, 5609, 5611, 5612, 5613, 5614, 5617, 5618, 5620, 5625, 5626, 5627, 5628, 5630, 5632, 5633, 5636, 5639, 5643, 5644, 5645, 5647, 5648, 5649, 5652, 5653, 5654, 5655, 5658, 5660, 5661, 5662, 5663, 5664, 5665, 5668, 5669, 5676, 5678, 5679, 5681, 5684, 5685, 5688, 5689, 5693, 5694, 5695, 5700, 5703, 5704, 5706, 5708, 5710, 5712, 5713, 5715, 5717, 5719, 5720, 5721, 5722, 5723, 5726, 5727, 5733, 5735, 5737, 5738, 5739, 5742, 5744, 5745, 5749, 5751, 5752, 5754, 5755, 5760, 5761, 5767, 5768, 5769, 5770, 5771, 5773, 5774, 5775, 5777, 5779, 5782]\n",
            "[5262 3726 2106 ... 3143 3879 1436]\n",
            "\n",
            "[0, 1, 2, 4, 8, 11, 12, 13, 14, 26, 27, 28, 29, 32, 34, 35, 36, 38, 40, 41, 43, 44, 47, 49, 50, 51, 52, 53, 58, 61, 62, 64, 65, 70, 71, 74, 80, 83, 85, 87, 88, 89, 91, 95, 98, 100, 102, 103, 105, 107, 112, 115, 117, 120, 122, 123, 127, 128, 129, 130, 131, 133, 134, 135, 136, 138, 141, 142, 147, 150, 151, 154, 156, 159, 160, 161, 162, 168, 169, 170, 171, 174, 178, 180, 184, 186, 187, 189, 190, 192, 196, 197, 198, 200, 201, 205, 206, 207, 211, 212, 213, 214, 215, 216, 217, 223, 224, 228, 230, 232, 233, 234, 235, 236, 238, 239, 240, 241, 242, 245, 246, 247, 249, 251, 252, 255, 256, 258, 259, 263, 264, 265, 267, 268, 269, 271, 272, 280, 281, 282, 283, 284, 285, 286, 289, 290, 291, 293, 294, 295, 297, 299, 301, 302, 304, 305, 308, 309, 311, 312, 313, 315, 318, 322, 323, 325, 328, 336, 337, 338, 340, 341, 342, 343, 344, 347, 349, 351, 352, 354, 356, 358, 359, 363, 365, 369, 373, 374, 375, 378, 379, 381, 382, 383, 385, 388, 389, 390, 392, 393, 395, 397, 398, 403, 405, 406, 407, 409, 411, 413, 414, 415, 416, 417, 418, 426, 427, 429, 431, 432, 433, 434, 436, 439, 440, 441, 442, 443, 444, 447, 457, 458, 459, 461, 462, 463, 465, 468, 469, 470, 472, 474, 475, 477, 478, 479, 480, 481, 483, 485, 490, 491, 492, 495, 496, 499, 501, 504, 510, 512, 513, 514, 516, 521, 522, 524, 525, 535, 536, 538, 545, 546, 549, 550, 553, 554, 555, 560, 562, 564, 565, 566, 567, 569, 570, 572, 574, 576, 577, 578, 580, 582, 585, 587, 589, 591, 592, 593, 594, 595, 596, 597, 598, 599, 600, 603, 604, 606, 607, 608, 610, 611, 612, 614, 615, 620, 623, 624, 625, 626, 628, 629, 633, 635, 636, 637, 639, 640, 642, 643, 645, 648, 651, 652, 653, 654, 655, 659, 664, 666, 669, 670, 675, 678, 680, 681, 684, 690, 692, 696, 697, 698, 703, 707, 709, 710, 712, 713, 715, 716, 717, 718, 719, 720, 722, 724, 725, 726, 727, 732, 734, 737, 738, 740, 742, 743, 746, 747, 748, 750, 751, 752, 754, 755, 758, 759, 760, 763, 765, 766, 768, 772, 773, 774, 779, 780, 781, 782, 785, 787, 788, 790, 793, 795, 796, 798, 802, 804, 805, 806, 807, 810, 813, 815, 818, 819, 821, 823, 824, 825, 830, 831, 833, 834, 838, 839, 842, 844, 845, 846, 849, 850, 851, 852, 854, 857, 858, 862, 863, 864, 866, 867, 872, 873, 877, 878, 880, 882, 884, 885, 890, 892, 895, 896, 899, 904, 906, 907, 910, 914, 915, 917, 919, 924, 925, 926, 928, 930, 932, 935, 937, 938, 939, 940, 941, 943, 945, 947, 948, 950, 951, 952, 955, 959, 961, 965, 969, 971, 973, 974, 976, 977, 979, 980, 982, 985, 986, 987, 989, 993, 994, 997, 1001, 1004, 1005, 1006, 1012, 1013, 1014, 1015, 1017, 1018, 1020, 1023, 1024, 1027, 1029, 1030, 1031, 1032, 1033, 1034, 1038, 1039, 1042, 1043, 1047, 1048, 1049, 1051, 1052, 1053, 1054, 1058, 1061, 1062, 1064, 1067, 1068, 1071, 1072, 1075, 1077, 1083, 1084, 1085, 1086, 1087, 1088, 1092, 1098, 1100, 1101, 1104, 1106, 1109, 1112, 1113, 1114, 1115, 1117, 1118, 1119, 1123, 1125, 1127, 1128, 1132, 1134, 1139, 1140, 1141, 1143, 1145, 1146, 1147, 1150, 1151, 1152, 1156, 1157, 1158, 1159, 1160, 1162, 1165, 1166, 1170, 1171, 1176, 1177, 1182, 1183, 1184, 1187, 1188, 1191, 1192, 1193, 1194, 1198, 1203, 1204, 1207, 1210, 1211, 1212, 1214, 1216, 1218, 1220, 1222, 1223, 1225, 1229, 1234, 1235, 1236, 1237, 1238, 1239, 1241, 1244, 1253, 1254, 1256, 1258, 1261, 1262, 1263, 1266, 1267, 1268, 1270, 1271, 1272, 1274, 1275, 1278, 1279, 1280, 1283, 1284, 1285, 1287, 1289, 1291, 1292, 1294, 1295, 1296, 1297, 1300, 1305, 1306, 1307, 1309, 1314, 1316, 1317, 1318, 1319, 1320, 1321, 1322, 1324, 1327, 1332, 1334, 1335, 1337, 1339, 1341, 1342, 1343, 1345, 1348, 1349, 1352, 1353, 1360, 1361, 1362, 1366, 1369, 1370, 1376, 1378, 1379, 1381, 1382, 1383, 1384, 1385, 1387, 1388, 1391, 1393, 1394, 1395, 1397, 1400, 1403, 1404, 1409, 1410, 1411, 1417, 1420, 1421, 1422, 1423, 1425, 1426, 1428, 1429, 1432, 1433, 1434, 1438, 1439, 1440, 1441, 1444, 1448, 1450, 1451, 1452, 1456, 1457, 1458, 1463, 1465, 1467, 1468, 1473, 1475, 1478, 1479, 1480, 1481, 1490, 1495, 1496, 1497, 1498, 1503, 1504, 1506, 1507, 1509, 1512, 1516, 1519, 1521, 1523, 1524, 1525, 1526, 1527, 1530, 1531, 1539, 1540, 1541, 1542, 1544, 1546, 1547, 1548, 1549, 1550, 1552, 1553, 1554, 1555, 1556, 1562, 1563, 1566, 1567, 1568, 1569, 1571, 1572, 1573, 1575, 1576, 1581, 1582, 1583, 1585, 1589, 1590, 1591, 1592, 1593, 1594, 1595, 1598, 1599, 1601, 1604, 1608, 1610, 1613, 1614, 1615, 1617, 1619, 1620, 1621, 1622, 1624, 1629, 1630, 1634, 1635, 1636, 1639, 1643, 1644, 1645, 1647, 1648, 1649, 1651, 1652, 1654, 1655, 1656, 1657, 1658, 1659, 1660, 1666, 1670, 1671, 1674, 1676, 1679, 1681, 1682, 1686, 1687, 1689, 1690, 1692, 1693, 1694, 1697, 1705, 1706, 1707, 1709, 1711, 1713, 1715, 1716, 1717, 1719, 1721, 1722, 1723, 1725, 1726, 1728, 1730, 1731, 1735, 1736, 1741, 1746, 1747, 1748, 1750, 1751, 1754, 1755, 1756, 1758, 1761, 1762, 1764, 1766, 1767, 1770, 1772, 1773, 1775, 1781, 1784, 1785, 1786, 1788, 1789, 1792, 1793, 1794, 1795, 1796, 1797, 1802, 1804, 1810, 1811, 1812, 1814, 1817, 1819, 1820, 1823, 1824, 1826, 1830, 1832, 1833, 1835, 1836, 1837, 1838, 1840, 1844, 1846, 1851, 1854, 1857, 1859, 1860, 1861, 1862, 1864, 1865, 1866, 1868, 1870, 1871, 1872, 1873, 1874, 1875, 1878, 1880, 1882, 1884, 1885, 1886, 1887, 1890, 1891, 1896, 1901, 1902, 1903, 1904, 1905, 1906, 1909, 1911, 1912, 1913, 1914, 1915, 1916, 1917, 1923, 1924, 1925, 1929, 1931, 1939, 1942, 1943, 1946, 1949, 1951, 1952, 1954, 1955, 1960, 1961, 1962, 1964, 1966, 1967, 1968, 1970, 1977, 1978, 1979, 1980, 1982, 1983, 1984, 1986, 1987, 1989, 1991, 1992, 1995, 1996, 1998, 1999, 2003, 2004, 2006, 2007, 2009, 2015, 2016, 2018, 2019, 2020, 2021, 2023, 2024, 2031, 2033, 2036, 2037, 2038, 2040, 2041, 2042, 2043, 2045, 2047, 2053, 2055, 2056, 2058, 2060, 2067, 2068, 2070, 2071, 2072, 2073, 2074, 2077, 2079, 2080, 2081, 2083, 2086, 2087, 2090, 2091, 2096, 2098, 2100, 2101, 2103, 2104, 2109, 2111, 2112, 2114, 2118, 2119, 2120, 2121, 2122, 2123, 2125, 2127, 2128, 2131, 2136, 2138, 2140, 2141, 2144, 2147, 2150, 2151, 2152, 2153, 2155, 2157, 2160, 2164, 2165, 2166, 2167, 2169, 2173, 2174, 2177, 2179, 2185, 2186, 2187, 2188, 2190, 2192, 2193, 2194, 2195, 2196, 2202, 2203, 2204, 2205, 2206, 2208, 2211, 2212, 2214, 2215, 2218, 2221, 2223, 2226, 2228, 2229, 2230, 2231, 2232, 2234, 2235, 2239, 2247, 2248, 2253, 2258, 2259, 2260, 2262, 2263, 2265, 2266, 2267, 2268, 2271, 2272, 2274, 2276, 2277, 2278, 2281, 2282, 2284, 2285, 2287, 2291, 2292, 2293, 2294, 2298, 2304, 2305, 2306, 2307, 2308, 2309, 2310, 2313, 2314, 2317, 2319, 2321, 2323, 2324, 2326, 2329, 2331, 2332, 2335, 2338, 2340, 2343, 2344, 2345, 2348, 2349, 2350, 2351, 2352, 2354, 2355, 2356, 2358, 2361, 2362, 2363, 2364, 2368, 2369, 2373, 2379, 2381, 2382, 2383, 2384, 2389, 2394, 2396, 2398, 2400, 2402, 2407, 2413, 2414, 2415, 2416, 2419, 2421, 2422, 2423, 2424, 2425, 2426, 2427, 2428, 2430, 2433, 2434, 2435, 2436, 2437, 2444, 2447, 2448, 2449, 2450, 2454, 2457, 2458, 2459, 2460, 2461, 2463, 2465, 2466, 2467, 2473, 2475, 2479, 2480, 2482, 2483, 2485, 2488, 2489, 2490, 2494, 2495, 2497, 2498, 2500, 2501, 2506, 2509, 2511, 2512, 2513, 2514, 2516, 2518, 2520, 2522, 2523, 2524, 2525, 2529, 2530, 2532, 2534, 2535, 2536, 2538, 2544, 2545, 2546, 2547, 2549, 2550, 2551, 2552, 2553, 2556, 2557, 2559, 2563, 2567, 2570, 2572, 2573, 2574, 2578, 2580, 2582, 2583, 2586, 2589, 2590, 2591, 2593, 2594, 2596, 2600, 2601, 2602, 2603, 2607, 2610, 2612, 2616, 2621, 2622, 2625, 2626, 2627, 2628, 2632, 2635, 2637, 2641, 2642, 2643, 2644, 2645, 2646, 2647, 2648, 2649, 2650, 2653, 2655, 2656, 2661, 2664, 2668, 2670, 2673, 2674, 2675, 2678, 2680, 2681, 2682, 2683, 2684, 2685, 2691, 2695, 2697, 2701, 2702, 2704, 2705, 2707, 2708, 2710, 2711, 2712, 2715, 2716, 2717, 2719, 2722, 2726, 2728, 2730, 2731, 2732, 2733, 2734, 2736, 2740, 2744, 2746, 2751, 2754, 2755, 2756, 2757, 2758, 2759, 2760, 2767, 2768, 2770, 2771, 2773, 2774, 2776, 2777, 2778, 2780, 2781, 2784, 2786, 2787, 2789, 2790, 2791, 2792, 2793, 2795, 2796, 2800, 2804, 2806, 2807, 2812, 2813, 2814, 2815, 2816, 2824, 2826, 2829, 2830, 2831, 2832, 2833, 2834, 2836, 2838, 2842, 2844, 2845, 2846, 2848, 2850, 2851, 2855, 2857, 2859, 2861, 2863, 2866, 2868, 2871, 2872, 2873, 2875, 2877, 2878, 2879, 2880, 2886, 2888, 2890, 2891, 2893, 2894, 2897, 2898, 2899, 2902, 2904, 2907, 2908, 2909, 2911, 2913, 2914, 2916, 2922, 2925, 2926, 2927, 2930, 2932, 2934, 2935, 2937, 2938, 2939, 2942, 2943, 2944, 2946, 2947, 2948, 2954, 2956, 2960, 2961, 2962, 2964, 2965, 2966, 2967, 2972, 2973, 2974, 2976, 2977, 2978, 2979, 2982, 2983, 2987, 2989, 2991, 2994, 2998, 2999, 3001, 3006, 3007, 3011, 3013, 3014, 3017, 3018, 3019, 3020, 3023, 3025, 3026, 3032, 3033, 3034, 3039, 3040, 3041, 3042, 3043, 3044, 3045, 3047, 3048, 3052, 3053, 3057, 3058, 3061, 3062, 3065, 3066, 3067, 3068, 3069, 3071, 3075, 3076, 3077, 3078, 3080, 3082, 3083, 3087, 3088, 3090, 3093, 3094, 3095, 3097, 3101, 3104, 3109, 3116, 3118, 3124, 3127, 3129, 3130, 3132, 3133, 3134, 3135, 3137, 3140, 3141, 3142, 3144, 3145, 3146, 3147, 3148, 3150, 3152, 3154, 3155, 3156, 3160, 3161, 3163, 3166, 3173, 3177, 3178, 3179, 3180, 3181, 3183, 3185, 3186, 3187, 3188, 3189, 3192, 3196, 3197, 3200, 3201, 3202, 3203, 3205, 3210, 3211, 3212, 3216, 3218, 3220, 3221, 3222, 3223, 3224, 3229, 3230, 3231, 3236, 3237, 3238, 3242, 3243, 3244, 3247, 3248, 3249, 3250, 3251, 3252, 3253, 3255, 3256, 3257, 3259, 3263, 3265, 3267, 3268, 3270, 3272, 3275, 3277, 3284, 3287, 3288, 3289, 3291, 3292, 3295, 3302, 3305, 3306, 3307, 3310, 3312, 3313, 3314, 3315, 3317, 3319, 3320, 3323, 3324, 3326, 3327, 3328, 3332, 3333, 3334, 3335, 3337, 3338, 3344, 3345, 3347, 3348, 3349, 3353, 3355, 3357, 3358, 3359, 3361, 3362, 3364, 3367, 3370, 3374, 3376, 3377, 3378, 3380, 3381, 3383, 3391, 3395, 3397, 3398, 3399, 3400, 3401, 3403, 3404, 3406, 3409, 3410, 3411, 3416, 3417, 3419, 3423, 3424, 3427, 3428, 3429, 3431, 3432, 3433, 3434, 3435, 3438, 3439, 3441, 3450, 3451, 3452, 3454, 3455, 3462, 3463, 3464, 3465, 3466, 3469, 3471, 3472, 3473, 3474, 3475, 3479, 3481, 3484, 3486, 3491, 3492, 3494, 3497, 3498, 3503, 3505, 3506, 3507, 3510, 3512, 3513, 3514, 3518, 3520, 3522, 3523, 3525, 3528, 3531, 3533, 3534, 3536, 3537, 3540, 3541, 3544, 3545, 3546, 3548, 3549, 3550, 3551, 3554, 3555, 3559, 3560, 3562, 3564, 3565, 3568, 3571, 3573, 3574, 3576, 3578, 3581, 3582, 3583, 3584, 3587, 3588, 3593, 3594, 3595, 3597, 3598, 3599, 3602, 3605, 3607, 3608, 3610, 3611, 3613, 3618, 3620, 3624, 3626, 3628, 3630, 3631, 3634, 3635, 3637, 3638, 3641, 3642, 3643, 3646, 3647, 3650, 3654, 3656, 3659, 3663, 3665, 3667, 3668, 3669, 3670, 3671, 3672, 3674, 3676, 3677, 3678, 3681, 3683, 3687, 3688, 3690, 3693, 3694, 3697, 3699, 3700, 3701, 3704, 3705, 3706, 3708, 3710, 3711, 3713, 3714, 3716, 3720, 3723, 3730, 3731, 3734, 3737, 3738, 3739, 3740, 3741, 3744, 3745, 3748, 3750, 3752, 3753, 3754, 3755, 3758, 3759, 3760, 3761, 3762, 3765, 3766, 3769, 3771, 3773, 3774, 3777, 3778, 3779, 3782, 3784, 3785, 3786, 3794, 3797, 3799, 3800, 3802, 3806, 3807, 3811, 3812, 3813, 3815, 3817, 3818, 3819, 3821, 3825, 3826, 3827, 3828, 3829, 3830, 3832, 3835, 3837, 3839, 3840, 3847, 3850, 3851, 3852, 3853, 3857, 3858, 3861, 3862, 3865, 3866, 3867, 3869, 3870, 3871, 3873, 3874, 3880, 3881, 3883, 3886, 3887, 3890, 3891, 3893, 3894, 3899, 3900, 3901, 3905, 3908, 3909, 3910, 3912, 3914, 3915, 3920, 3921, 3925, 3926, 3929, 3930, 3933, 3935, 3936, 3937, 3941, 3942, 3943, 3946, 3947, 3948, 3949, 3953, 3956, 3961, 3962, 3964, 3965, 3966, 3967, 3969, 3972, 3973, 3974, 3975, 3977, 3979, 3980, 3983, 3985, 3986, 3987, 3991, 3992, 3993, 3995, 3997, 3998, 3999, 4001, 4002, 4004, 4006, 4007, 4008, 4009, 4014, 4017, 4020, 4023, 4025, 4027, 4028, 4029, 4033, 4035, 4039, 4041, 4042, 4045, 4046, 4049, 4050, 4052, 4057, 4058, 4059, 4061, 4062, 4064, 4066, 4067, 4068, 4069, 4070, 4076, 4077, 4078, 4083, 4085, 4086, 4090, 4091, 4093, 4094, 4095, 4098, 4100, 4101, 4102, 4105, 4106, 4107, 4109, 4112, 4115, 4117, 4121, 4125, 4126, 4130, 4131, 4132, 4133, 4134, 4137, 4138, 4143, 4144, 4145, 4146, 4147, 4148, 4151, 4155, 4158, 4159, 4161, 4162, 4164, 4165, 4167, 4170, 4173, 4175, 4178, 4179, 4181, 4182, 4186, 4187, 4188, 4190, 4192, 4195, 4197, 4198, 4199, 4201, 4202, 4203, 4205, 4206, 4210, 4211, 4215, 4216, 4217, 4218, 4222, 4224, 4226, 4227, 4233, 4234, 4235, 4237, 4241, 4242, 4246, 4248, 4249, 4252, 4253, 4255, 4256, 4257, 4262, 4264, 4265, 4266, 4267, 4268, 4269, 4270, 4271, 4272, 4273, 4275, 4277, 4278, 4279, 4281, 4283, 4284, 4285, 4287, 4288, 4290, 4292, 4296, 4300, 4302, 4305, 4308, 4312, 4313, 4318, 4320, 4324, 4325, 4327, 4328, 4329, 4330, 4336, 4338, 4340, 4341, 4346, 4347, 4349, 4350, 4351, 4352, 4354, 4356, 4360, 4361, 4362, 4364, 4369, 4370, 4371, 4372, 4373, 4375, 4377, 4385, 4386, 4388, 4390, 4392, 4395, 4396, 4397, 4399, 4401, 4405, 4408, 4410, 4411, 4414, 4416, 4417, 4420, 4421, 4422, 4424, 4426, 4428, 4430, 4434, 4435, 4436, 4437, 4440, 4441, 4442, 4447, 4448, 4449, 4450, 4455, 4456, 4457, 4460, 4462, 4463, 4466, 4468, 4469, 4470, 4472, 4473, 4475, 4480, 4482, 4484, 4485, 4487, 4489, 4491, 4494, 4495, 4500, 4502, 4503, 4505, 4507, 4508, 4510, 4512, 4514, 4516, 4517, 4518, 4520, 4523, 4524, 4527, 4530, 4533, 4535, 4536, 4538, 4540, 4541, 4542, 4543, 4551, 4552, 4553, 4555, 4557, 4558, 4560, 4563, 4564, 4565, 4568, 4571, 4572, 4574, 4577, 4580, 4581, 4583, 4584, 4588, 4590, 4591, 4592, 4596, 4597, 4600, 4602, 4603, 4604, 4607, 4608, 4610, 4612, 4616, 4617, 4618, 4621, 4623, 4625, 4627, 4629, 4632, 4634, 4635, 4636, 4639, 4640, 4642, 4644, 4647, 4653, 4655, 4657, 4658, 4659, 4660, 4662, 4663, 4664, 4666, 4668, 4670, 4674, 4676, 4678, 4680, 4684, 4687, 4688, 4689, 4692, 4697, 4701, 4702, 4705, 4706, 4707, 4709, 4710, 4711, 4712, 4713, 4714, 4716, 4717, 4718, 4720, 4724, 4726, 4728, 4730, 4731, 4733, 4735, 4736, 4738, 4740, 4743, 4746, 4748, 4749, 4750, 4751, 4754, 4756, 4757, 4760, 4761, 4762, 4764, 4765, 4766, 4770, 4772, 4773, 4774, 4777, 4782, 4783, 4784, 4788, 4789, 4795, 4798, 4800, 4801, 4802, 4803, 4806, 4807, 4809, 4811, 4812, 4813, 4817, 4818, 4820, 4821, 4824, 4827, 4830, 4831, 4835, 4838, 4839, 4842, 4843, 4844, 4845, 4847, 4849, 4853, 4855, 4856, 4857, 4858, 4861, 4864, 4865, 4866, 4867, 4872, 4873, 4875, 4877, 4878, 4880, 4883, 4884, 4888, 4895, 4896, 4898, 4899, 4900, 4901, 4906, 4907, 4908, 4909, 4911, 4912, 4915, 4916, 4917, 4919, 4920, 4926, 4928, 4929, 4930, 4932, 4933, 4934, 4939, 4940, 4941, 4945, 4952, 4953, 4955, 4959, 4961, 4962, 4963, 4964, 4965, 4966, 4968, 4969, 4970, 4971, 4972, 4973, 4974, 4979, 4980, 4986, 4987, 4990, 4991, 4993, 4994, 4995, 4997, 4999, 5000, 5002, 5004, 5009, 5010, 5013, 5015, 5016, 5018, 5019, 5022, 5024, 5025, 5028, 5029, 5031, 5032, 5034, 5038, 5040, 5041, 5042, 5043, 5045, 5047, 5050, 5051, 5052, 5055, 5056, 5057, 5059, 5060, 5063, 5064, 5065, 5070, 5071, 5074, 5076, 5077, 5079, 5080, 5085, 5086, 5088, 5092, 5093, 5097, 5098, 5099, 5101, 5103, 5106, 5107, 5108, 5110, 5111, 5112, 5113, 5118, 5119, 5122, 5124, 5128, 5130, 5131, 5132, 5136, 5137, 5138, 5139, 5140, 5141, 5144, 5145, 5148, 5149, 5150, 5151, 5155, 5156, 5157, 5158, 5159, 5167, 5168, 5174, 5176, 5177, 5179, 5180, 5181, 5183, 5185, 5187, 5188, 5191, 5192, 5193, 5196, 5197, 5198, 5202, 5203, 5205, 5209, 5210, 5211, 5215, 5219, 5221, 5222, 5226, 5227, 5228, 5229, 5232, 5234, 5236, 5238, 5246, 5247, 5248, 5249, 5250, 5252, 5253, 5254, 5255, 5256, 5258, 5260, 5267, 5268, 5270, 5271, 5272, 5275, 5277, 5280, 5281, 5282, 5283, 5285, 5288, 5289, 5293, 5296, 5297, 5300, 5301, 5302, 5303, 5305, 5311, 5312, 5313, 5315, 5318, 5320, 5321, 5323, 5325, 5327, 5328, 5331, 5335, 5336, 5339, 5341, 5343, 5344, 5345, 5346, 5350, 5351, 5354, 5355, 5358, 5359, 5360, 5362, 5363, 5365, 5366, 5367, 5368, 5369, 5373, 5375, 5379, 5381, 5384, 5385, 5386, 5387, 5388, 5389, 5396, 5398, 5399, 5404, 5405, 5406, 5407, 5408, 5409, 5410, 5414, 5415, 5417, 5418, 5420, 5423, 5424, 5428, 5432, 5434, 5436, 5439, 5440, 5442, 5445, 5447, 5448, 5449, 5451, 5454, 5455, 5456, 5457, 5460, 5461, 5464, 5465, 5468, 5469, 5471, 5472, 5474, 5476, 5479, 5481, 5483, 5485, 5486, 5488, 5489, 5490, 5492, 5493, 5494, 5495, 5496, 5497, 5499, 5503, 5506, 5507, 5510, 5512, 5513, 5514, 5515, 5520, 5523, 5524, 5527, 5528, 5533, 5535, 5536, 5537, 5538, 5540, 5542, 5543, 5545, 5546, 5547, 5551, 5553, 5555, 5556, 5557, 5559, 5562, 5563, 5565, 5568, 5569, 5573, 5574, 5577, 5579, 5580, 5590, 5595, 5597, 5598, 5599, 5601, 5603, 5605, 5606, 5607, 5608, 5610, 5615, 5616, 5619, 5621, 5622, 5623, 5624, 5629, 5631, 5634, 5635, 5637, 5638, 5640, 5641, 5642, 5646, 5650, 5651, 5656, 5657, 5659, 5666, 5667, 5670, 5671, 5672, 5673, 5674, 5675, 5677, 5680, 5682, 5683, 5686, 5687, 5690, 5691, 5692, 5696, 5697, 5698, 5699, 5701, 5702, 5705, 5707, 5709, 5711, 5714, 5716, 5718, 5724, 5725, 5728, 5729, 5730, 5731, 5732, 5734, 5736, 5740, 5741, 5743, 5746, 5747, 5748, 5750, 5753, 5756, 5757, 5758, 5759, 5762, 5763, 5764, 5765, 5766, 5772, 5776, 5778, 5780, 5781, 5783]\n",
            "[1795 2111 3127 ... 4543 4107 5698]\n"
          ],
          "name": "stdout"
        }
      ]
    },
    {
      "cell_type": "code",
      "metadata": {
        "id": "tWVL6q1ElqeQ",
        "colab_type": "code",
        "outputId": "b97fd12f-9b21-46e6-d2f8-45228782ef1d",
        "colab": {
          "base_uri": "https://localhost:8080/",
          "height": 50
        }
      },
      "source": [
        "print(f\"Train Dataset: {len(train_indexes)}\")\n",
        "print(f\"Valid Dataset: {len(val_indexes)}\")"
      ],
      "execution_count": 7,
      "outputs": [
        {
          "output_type": "stream",
          "text": [
            "Train Dataset: 2892\n",
            "Valid Dataset: 2892\n"
          ],
          "name": "stdout"
        }
      ]
    },
    {
      "cell_type": "code",
      "metadata": {
        "id": "ixIfToZoo7Tw",
        "colab_type": "code",
        "colab": {}
      },
      "source": [
        "val_dataset = Subset(train_dataset, val_indexes) # in order to not apply data augmentation to the validation\n",
        "#train_dataset_1 = Subset(train_dataset_transf, train_indexes) # transformed\n",
        "#train_dataset_2 = Subset(train_dataset, train_indexes)\n",
        "train_dataset = Subset(train_dataset, train_indexes)"
      ],
      "execution_count": 0,
      "outputs": []
    },
    {
      "cell_type": "code",
      "metadata": {
        "id": "T9lqb_ta3Lqn",
        "colab_type": "code",
        "colab": {}
      },
      "source": [
        "#DATA AUGMENTATION -> we concatenate the original dataset with the transformed one\n",
        "#sets = [train_dataset_1, train_dataset_2]\n",
        "#train_dataset = ConcatDataset(sets)"
      ],
      "execution_count": 0,
      "outputs": []
    },
    {
      "cell_type": "code",
      "metadata": {
        "id": "KUkpXidCrWiJ",
        "colab_type": "code",
        "colab": {
          "base_uri": "https://localhost:8080/",
          "height": 34
        },
        "outputId": "f5c3c747-03f5-4017-89f5-f950c6225db5"
      },
      "source": [
        "len(train_dataset)"
      ],
      "execution_count": 10,
      "outputs": [
        {
          "output_type": "execute_result",
          "data": {
            "text/plain": [
              "2892"
            ]
          },
          "metadata": {
            "tags": []
          },
          "execution_count": 10
        }
      ]
    },
    {
      "cell_type": "markdown",
      "metadata": {
        "id": "FYEDQ7Z21ldN",
        "colab_type": "text"
      },
      "source": [
        "**Prepare Dataloaders**"
      ]
    },
    {
      "cell_type": "code",
      "metadata": {
        "id": "VriRw8SI1nle",
        "colab_type": "code",
        "colab": {}
      },
      "source": [
        "# Dataloaders iterate over pytorch datasets and transparently provide useful functions (e.g. parallelization and shuffling)\n",
        "train_dataloader = DataLoader(train_dataset, batch_size=BATCH_SIZE, shuffle=True, num_workers=4, drop_last=True)\n",
        "val_dataloader = DataLoader(val_dataset, batch_size=BATCH_SIZE, shuffle=False, num_workers=4, drop_last=True)\n",
        "\n",
        "test_dataloader = DataLoader(test_dataset, batch_size=BATCH_SIZE, shuffle=False, num_workers=4)"
      ],
      "execution_count": 0,
      "outputs": []
    },
    {
      "cell_type": "markdown",
      "metadata": {
        "id": "gbZ1t5Qs2z4j",
        "colab_type": "text"
      },
      "source": [
        "**Prepare Network**"
      ]
    },
    {
      "cell_type": "code",
      "metadata": {
        "id": "exHUjtXa22DN",
        "colab_type": "code",
        "colab": {
          "base_uri": "https://localhost:8080/",
          "height": 82,
          "referenced_widgets": [
            "414fbf53ad894614a34aa1a877abc0bd",
            "84e2e9948f914b7cb891856b7d365cdf",
            "291936814d7e4397af15da7964dff034",
            "ad16526f74114a60807413c3c1b80bc5",
            "e2529cdf213343d6bc5c3b93f8ee6dcb",
            "ad9b8ebad043431d88d45487a60637ad",
            "2ce19d7661cf401f96270aeddb877914",
            "fc2a77f3763741d69d1f0a038afd6068"
          ]
        },
        "outputId": "05431c14-8256-4f2d-d8d6-4b9fff8b9f69"
      },
      "source": [
        "if network == \"alex\":\n",
        "  net = alexnet(pretrained = transferLearning) # Loading AlexNet model\n",
        "  # if transferLearning = True, we use the pretrained net\n",
        "\n",
        "  # AlexNet has 1000 output neurons, corresponding to the 1000 ImageNet's classes\n",
        "  # We need 101 outputs for Caltech-101\n",
        "  net.classifier[6] = nn.Linear(4096, NUM_CLASSES) # nn.Linear in pytorch is a fully connected layer\n",
        "                                                  # The convolutional layer is nn.Conv2d\n",
        "\n",
        "# We just changed the last layer of AlexNet with a new fully connected layer with 101 outputs\n",
        "# It is strongly suggested to study torchvision.models.alexnet source code\n",
        "\n",
        "if network == \"vgg\":\n",
        "  net = vgg16(pretrained=\"imagenet\")\n",
        "  net.classifier[6] = nn.Linear(4096, NUM_CLASSES)\n"
      ],
      "execution_count": 12,
      "outputs": [
        {
          "output_type": "stream",
          "text": [
            "Downloading: \"https://download.pytorch.org/models/vgg16-397923af.pth\" to /root/.cache/torch/checkpoints/vgg16-397923af.pth\n"
          ],
          "name": "stderr"
        },
        {
          "output_type": "display_data",
          "data": {
            "application/vnd.jupyter.widget-view+json": {
              "model_id": "414fbf53ad894614a34aa1a877abc0bd",
              "version_minor": 0,
              "version_major": 2
            },
            "text/plain": [
              "HBox(children=(FloatProgress(value=0.0, max=553433881.0), HTML(value='')))"
            ]
          },
          "metadata": {
            "tags": []
          }
        },
        {
          "output_type": "stream",
          "text": [
            "\n"
          ],
          "name": "stdout"
        }
      ]
    },
    {
      "cell_type": "markdown",
      "metadata": {
        "id": "KEyL3H_R4qCf",
        "colab_type": "text"
      },
      "source": [
        "**Prepare Training**"
      ]
    },
    {
      "cell_type": "code",
      "metadata": {
        "id": "9sjq00G94tSc",
        "colab_type": "code",
        "colab": {}
      },
      "source": [
        "# Define loss function\n",
        "criterion = nn.CrossEntropyLoss() # for classification, we use Cross Entropy\n",
        "\n",
        "# Choose parameters to optimize\n",
        "# To access a different set of parameters, you have to access submodules of AlexNet\n",
        "# (nn.Module objects, like AlexNet, implement the Composite Pattern)\n",
        "# e.g.: parameters of the fully connected layers: net.classifier.parameters()\n",
        "# e.g.: parameters of the convolutional layers: look at alexnet's source code ;) \n",
        "\n",
        "if train_freeze == \"all\":\n",
        "  parameters_to_optimize = net.parameters() # In this case we optimize over all the parameters of AlexNet\n",
        "elif train_freeze == \"fc\":\n",
        "  parameters_to_optimize = net.classifier.parameters()\n",
        "elif train_freeze == \"cl\":\n",
        "  parameters_to_optimize = net.features.parameters()\n",
        "\n",
        "# Define optimizer\n",
        "# An optimizer updates the weights based on loss\n",
        "# We use SGD with momentum\n",
        "optimizer = optim.SGD(parameters_to_optimize, lr=LR, momentum=MOMENTUM, weight_decay=WEIGHT_DECAY)\n",
        "\n",
        "# Define scheduler\n",
        "# A scheduler dynamically changes learning rate\n",
        "# The most common schedule is the step(-down), which multiplies learning rate by gamma every STEP_SIZE epochs\n",
        "scheduler = optim.lr_scheduler.StepLR(optimizer, step_size=STEP_SIZE, gamma=GAMMA)"
      ],
      "execution_count": 0,
      "outputs": []
    },
    {
      "cell_type": "markdown",
      "metadata": {
        "id": "AxYUli9d9uYQ",
        "colab_type": "text"
      },
      "source": [
        "**Training and Validation**"
      ]
    },
    {
      "cell_type": "code",
      "metadata": {
        "id": "ZcoQ5fD49yT_",
        "colab_type": "code",
        "outputId": "188b8dcb-971b-4e56-edf6-97cd455e4b66",
        "colab": {
          "base_uri": "https://localhost:8080/",
          "height": 1000
        }
      },
      "source": [
        "# By default, everything is loaded to cpu\n",
        "net = net.to(DEVICE) # this will bring the network to GPU if DEVICE is cuda\n",
        "\n",
        "cudnn.benchmark # Calling this optimizes runtime\n",
        "\n",
        "current_step = 0\n",
        "\n",
        "#losses = []\n",
        "#counterLosses = 0\n",
        "\n",
        "accuracy_train = []\n",
        "accuracy_val = []\n",
        "loss_train = []\n",
        "loss_val = []\n",
        "\n",
        "#best_accuracy = 0\n",
        "best_loss = 1000\n",
        "best_epoch = 0\n",
        "best_net = 0\n",
        "acc = 0\n",
        "\n",
        "# Start iterating over the epochs\n",
        "for epoch in range(NUM_EPOCHS):\n",
        "  counterLosses = 0\n",
        "  print()\n",
        "  print('\\nStarting epoch {}/{}, LR = {}'.format(epoch+1, NUM_EPOCHS, scheduler.get_lr()))\n",
        "  running_corrects = 0\n",
        "\n",
        "  # Iterate over the dataset\n",
        "  for images, labels in train_dataloader:\n",
        "    # Bring data over the device of choice\n",
        "    images = images.to(DEVICE)\n",
        "    labels = labels.to(DEVICE)\n",
        "\n",
        "    net.train() # Sets module in training mode\n",
        "\n",
        "    # PyTorch, by default, accumulates gradients after each backward pass\n",
        "    # We need to manually set the gradients to zero before starting a new iteration\n",
        "    optimizer.zero_grad() # Zero-ing the gradients\n",
        "\n",
        "    # Forward pass to the network\n",
        "    outputs_train = net(images)\n",
        "\n",
        "    _, preds = torch.max(outputs_train.data, 1)\n",
        "\n",
        "    running_corrects += torch.sum(preds == labels.data).data.item()\n",
        "\n",
        "    # Compute loss based on output and ground truth\n",
        "    loss = criterion(outputs_train, labels)\n",
        "\n",
        "    #counterLosses += loss.item()*images.size(0)\n",
        "\n",
        "    # Log loss\n",
        "    if current_step % LOG_FREQUENCY == 0:\n",
        "      print('Step {}, Loss {}'.format(current_step, loss.item()))\n",
        "\n",
        "    # Compute gradients for each layer and update weights\n",
        "    loss.backward()  # backward pass: computes gradients\n",
        "    optimizer.step() # update weights based on accumulated gradients\n",
        "\n",
        "    current_step += 1\n",
        "\n",
        "  loss_train.append(loss.item())\n",
        "  accuracy = running_corrects/float(len(train_dataset))\n",
        "  accuracy_train.append(accuracy)\n",
        "\n",
        "  net.train(False)\n",
        "\n",
        "  running_correct_val = 0\n",
        "  for images, labels in tqdm(val_dataloader):\n",
        "    images = images.to(DEVICE)\n",
        "    labels = labels.to(DEVICE)\n",
        "\n",
        "    outputs_val = net(images)\n",
        "\n",
        "    _, preds = torch.max(outputs_val.data, 1)\n",
        "\n",
        "    running_correct_val += torch.sum(preds == labels.data).data.item()\n",
        "\n",
        "    loss = criterion(outputs_val, labels)\n",
        "\n",
        "  loss_val.append(loss.item())\n",
        "  accuracy = running_correct_val/ float(len(val_dataset))\n",
        "  accuracy_val.append(accuracy)\n",
        "\n",
        "  \"\"\"\n",
        "  if accuracy > best_accuracy:\n",
        "    best_accuracy = accuracy\n",
        "    best_epoch = epoch\n",
        "    best_net = copy.deepcopy(net.state_dict())\n",
        "  \"\"\"\n",
        "\n",
        "  if loss.item() < best_loss:\n",
        "    best_loss = loss.item()\n",
        "    acc = accuracy\n",
        "    best_epoch = epoch\n",
        "    best_net = copy.deepcopy(net.state_dict())\n",
        "\n",
        "  # Step the scheduler\n",
        "  scheduler.step()\n",
        "\n",
        "  #losses.append(counterLosses/float(len(train_dataset)))\n",
        "\n",
        "print(f\"\\nThe best epoch is {best_epoch+1} with loss = {best_loss} and accuracy = {acc}\")\n"
      ],
      "execution_count": 14,
      "outputs": [
        {
          "output_type": "stream",
          "text": [
            "\n",
            "\n",
            "Starting epoch 1/10, LR = [0.001]\n"
          ],
          "name": "stdout"
        },
        {
          "output_type": "stream",
          "text": [
            "/usr/local/lib/python3.6/dist-packages/torch/optim/lr_scheduler.py:351: UserWarning: To get the last learning rate computed by the scheduler, please use `get_last_lr()`.\n",
            "  \"please use `get_last_lr()`.\", UserWarning)\n"
          ],
          "name": "stderr"
        },
        {
          "output_type": "stream",
          "text": [
            "Step 0, Loss 4.6649932861328125\n",
            "Step 10, Loss 4.249819755554199\n",
            "Step 20, Loss 2.9293761253356934\n",
            "Step 30, Loss 3.2396597862243652\n",
            "Step 40, Loss 2.745976209640503\n",
            "Step 50, Loss 1.7849349975585938\n",
            "Step 60, Loss 1.6708509922027588\n",
            "Step 70, Loss 1.8259751796722412\n",
            "Step 80, Loss 1.2945725917816162\n",
            "Step 90, Loss 1.527274250984192\n",
            "Step 100, Loss 1.4919296503067017\n",
            "Step 110, Loss 0.8681522011756897\n",
            "Step 120, Loss 0.7028505802154541\n",
            "Step 130, Loss 0.8059684634208679\n",
            "Step 140, Loss 1.1641367673873901\n",
            "Step 150, Loss 0.4521486461162567\n",
            "Step 160, Loss 1.0729159116744995\n",
            "Step 170, Loss 0.8568102121353149\n"
          ],
          "name": "stdout"
        },
        {
          "output_type": "stream",
          "text": [
            "100%|██████████| 180/180 [00:21<00:00,  8.27it/s]"
          ],
          "name": "stderr"
        },
        {
          "output_type": "stream",
          "text": [
            "\n",
            "\n",
            "Starting epoch 2/10, LR = [0.001]\n"
          ],
          "name": "stdout"
        },
        {
          "output_type": "stream",
          "text": [
            "\n"
          ],
          "name": "stderr"
        },
        {
          "output_type": "stream",
          "text": [
            "Step 180, Loss 1.0127592086791992\n",
            "Step 190, Loss 0.9333365559577942\n",
            "Step 200, Loss 0.8596938252449036\n",
            "Step 210, Loss 0.15394443273544312\n",
            "Step 220, Loss 0.17981335520744324\n",
            "Step 230, Loss 0.9784526824951172\n",
            "Step 240, Loss 0.24571780860424042\n",
            "Step 250, Loss 0.7120425701141357\n",
            "Step 260, Loss 0.08158481121063232\n",
            "Step 270, Loss 0.47768986225128174\n",
            "Step 280, Loss 0.05839258432388306\n",
            "Step 290, Loss 0.9902570247650146\n",
            "Step 300, Loss 0.22150373458862305\n",
            "Step 310, Loss 0.4780900478363037\n",
            "Step 320, Loss 0.6098006963729858\n",
            "Step 330, Loss 0.7462977170944214\n",
            "Step 340, Loss 0.1017712950706482\n",
            "Step 350, Loss 0.5927731394767761\n"
          ],
          "name": "stdout"
        },
        {
          "output_type": "stream",
          "text": [
            "100%|██████████| 180/180 [00:22<00:00,  8.12it/s]"
          ],
          "name": "stderr"
        },
        {
          "output_type": "stream",
          "text": [
            "\n",
            "\n",
            "Starting epoch 3/10, LR = [0.001]\n"
          ],
          "name": "stdout"
        },
        {
          "output_type": "stream",
          "text": [
            "\n"
          ],
          "name": "stderr"
        },
        {
          "output_type": "stream",
          "text": [
            "Step 360, Loss 0.07698240876197815\n",
            "Step 370, Loss 0.2770034074783325\n",
            "Step 380, Loss 0.009000122547149658\n",
            "Step 390, Loss 0.19619977474212646\n",
            "Step 400, Loss 0.31239795684814453\n",
            "Step 410, Loss 0.7995076775550842\n",
            "Step 420, Loss 0.38357022404670715\n",
            "Step 430, Loss 0.0859115719795227\n",
            "Step 440, Loss 0.05072373151779175\n",
            "Step 450, Loss 0.012138724327087402\n",
            "Step 460, Loss 0.07114112377166748\n",
            "Step 470, Loss 0.12251773476600647\n",
            "Step 480, Loss 0.2863577604293823\n",
            "Step 490, Loss 0.3360494375228882\n",
            "Step 500, Loss 0.08682775497436523\n",
            "Step 510, Loss 0.09223681688308716\n",
            "Step 520, Loss 0.38098645210266113\n",
            "Step 530, Loss 0.07107070088386536\n"
          ],
          "name": "stdout"
        },
        {
          "output_type": "stream",
          "text": [
            "100%|██████████| 180/180 [00:22<00:00,  8.06it/s]"
          ],
          "name": "stderr"
        },
        {
          "output_type": "stream",
          "text": [
            "\n",
            "\n",
            "Starting epoch 4/10, LR = [0.001]\n"
          ],
          "name": "stdout"
        },
        {
          "output_type": "stream",
          "text": [
            "\n"
          ],
          "name": "stderr"
        },
        {
          "output_type": "stream",
          "text": [
            "Step 540, Loss 0.112641841173172\n",
            "Step 550, Loss 0.10449367761611938\n",
            "Step 560, Loss 0.015279769897460938\n",
            "Step 570, Loss 0.1339322328567505\n",
            "Step 580, Loss 0.23402217030525208\n",
            "Step 590, Loss 0.11479628086090088\n",
            "Step 600, Loss 0.0031758546829223633\n",
            "Step 610, Loss 0.32953083515167236\n",
            "Step 620, Loss 0.07395172119140625\n",
            "Step 630, Loss 0.012108862400054932\n",
            "Step 640, Loss 0.01886773109436035\n",
            "Step 650, Loss 0.00897127389907837\n",
            "Step 660, Loss 0.060418665409088135\n",
            "Step 670, Loss 0.0030364990234375\n",
            "Step 680, Loss 0.029888033866882324\n",
            "Step 690, Loss 0.08647799491882324\n",
            "Step 700, Loss 0.012089073657989502\n",
            "Step 710, Loss 0.0016959905624389648\n"
          ],
          "name": "stdout"
        },
        {
          "output_type": "stream",
          "text": [
            "100%|██████████| 180/180 [00:22<00:00,  8.16it/s]"
          ],
          "name": "stderr"
        },
        {
          "output_type": "stream",
          "text": [
            "\n",
            "\n",
            "Starting epoch 5/10, LR = [0.001]\n"
          ],
          "name": "stdout"
        },
        {
          "output_type": "stream",
          "text": [
            "\n"
          ],
          "name": "stderr"
        },
        {
          "output_type": "stream",
          "text": [
            "Step 720, Loss 0.04614332318305969\n",
            "Step 730, Loss 0.014392733573913574\n",
            "Step 740, Loss 0.003977775573730469\n",
            "Step 750, Loss 0.3953900933265686\n",
            "Step 760, Loss 0.1375279426574707\n",
            "Step 770, Loss 0.3605579733848572\n",
            "Step 780, Loss 0.10149145126342773\n",
            "Step 790, Loss 0.09541186690330505\n",
            "Step 800, Loss 0.008935868740081787\n",
            "Step 810, Loss 0.11811429262161255\n",
            "Step 820, Loss 0.019345462322235107\n",
            "Step 830, Loss 0.1713206171989441\n",
            "Step 840, Loss 0.014815688133239746\n",
            "Step 850, Loss 0.038175493478775024\n",
            "Step 860, Loss 0.19523203372955322\n",
            "Step 870, Loss 0.06894084811210632\n",
            "Step 880, Loss 0.007835149765014648\n",
            "Step 890, Loss 0.020886778831481934\n"
          ],
          "name": "stdout"
        },
        {
          "output_type": "stream",
          "text": [
            "100%|██████████| 180/180 [00:22<00:00,  8.18it/s]"
          ],
          "name": "stderr"
        },
        {
          "output_type": "stream",
          "text": [
            "\n",
            "\n",
            "Starting epoch 6/10, LR = [0.001]\n"
          ],
          "name": "stdout"
        },
        {
          "output_type": "stream",
          "text": [
            "\n"
          ],
          "name": "stderr"
        },
        {
          "output_type": "stream",
          "text": [
            "Step 900, Loss 0.04618269205093384\n",
            "Step 910, Loss 0.06250226497650146\n",
            "Step 920, Loss 0.1369454264640808\n",
            "Step 930, Loss 0.9065480828285217\n",
            "Step 940, Loss 0.015567302703857422\n",
            "Step 950, Loss 0.005316793918609619\n",
            "Step 960, Loss 0.11915081739425659\n",
            "Step 970, Loss 0.12338441610336304\n",
            "Step 980, Loss 0.03182533383369446\n",
            "Step 990, Loss 0.002554595470428467\n",
            "Step 1000, Loss 0.11852139234542847\n",
            "Step 1010, Loss 0.31057798862457275\n",
            "Step 1020, Loss 0.009486794471740723\n",
            "Step 1030, Loss 0.007878780364990234\n",
            "Step 1040, Loss 0.12616699934005737\n",
            "Step 1050, Loss 0.018029332160949707\n",
            "Step 1060, Loss 0.0037181973457336426\n",
            "Step 1070, Loss 0.014783620834350586\n"
          ],
          "name": "stdout"
        },
        {
          "output_type": "stream",
          "text": [
            "100%|██████████| 180/180 [00:22<00:00,  8.06it/s]"
          ],
          "name": "stderr"
        },
        {
          "output_type": "stream",
          "text": [
            "\n",
            "\n",
            "Starting epoch 7/10, LR = [0.001]\n"
          ],
          "name": "stdout"
        },
        {
          "output_type": "stream",
          "text": [
            "\n"
          ],
          "name": "stderr"
        },
        {
          "output_type": "stream",
          "text": [
            "Step 1080, Loss 0.0026586055755615234\n",
            "Step 1090, Loss 0.012469470500946045\n",
            "Step 1100, Loss 0.5536125898361206\n",
            "Step 1110, Loss 0.0031786561012268066\n",
            "Step 1120, Loss 0.027273118495941162\n",
            "Step 1130, Loss 0.12987017631530762\n",
            "Step 1140, Loss 0.01489037275314331\n",
            "Step 1150, Loss 0.00015395879745483398\n",
            "Step 1160, Loss 0.006038546562194824\n",
            "Step 1170, Loss 0.004154384136199951\n",
            "Step 1180, Loss 2.5272369384765625e-05\n",
            "Step 1190, Loss 0.001378178596496582\n",
            "Step 1200, Loss 0.12137877941131592\n",
            "Step 1210, Loss 0.0004042387008666992\n",
            "Step 1220, Loss 0.03431808948516846\n",
            "Step 1230, Loss 0.2778434455394745\n",
            "Step 1240, Loss 0.004923820495605469\n",
            "Step 1250, Loss 0.05562698841094971\n"
          ],
          "name": "stdout"
        },
        {
          "output_type": "stream",
          "text": [
            "100%|██████████| 180/180 [00:21<00:00,  8.18it/s]"
          ],
          "name": "stderr"
        },
        {
          "output_type": "stream",
          "text": [
            "\n",
            "\n",
            "Starting epoch 8/10, LR = [0.001]\n"
          ],
          "name": "stdout"
        },
        {
          "output_type": "stream",
          "text": [
            "\n"
          ],
          "name": "stderr"
        },
        {
          "output_type": "stream",
          "text": [
            "Step 1260, Loss 0.013600051403045654\n",
            "Step 1270, Loss 0.01584005355834961\n",
            "Step 1280, Loss 0.01599675416946411\n",
            "Step 1290, Loss 0.02076125144958496\n",
            "Step 1300, Loss 0.052708059549331665\n",
            "Step 1310, Loss 0.023739874362945557\n",
            "Step 1320, Loss 0.008678197860717773\n",
            "Step 1330, Loss 0.005270421504974365\n",
            "Step 1340, Loss 0.053936779499053955\n",
            "Step 1350, Loss 0.02830129861831665\n",
            "Step 1360, Loss 0.006143927574157715\n",
            "Step 1370, Loss 0.0021263957023620605\n",
            "Step 1380, Loss 0.007113277912139893\n",
            "Step 1390, Loss 0.035734474658966064\n",
            "Step 1400, Loss 0.00427323579788208\n",
            "Step 1410, Loss 0.003599226474761963\n",
            "Step 1420, Loss 0.0009480118751525879\n",
            "Step 1430, Loss 2.6106834411621094e-05\n"
          ],
          "name": "stdout"
        },
        {
          "output_type": "stream",
          "text": [
            "100%|██████████| 180/180 [00:22<00:00,  8.18it/s]"
          ],
          "name": "stderr"
        },
        {
          "output_type": "stream",
          "text": [
            "\n",
            "\n",
            "Starting epoch 9/10, LR = [0.001]\n"
          ],
          "name": "stdout"
        },
        {
          "output_type": "stream",
          "text": [
            "\n"
          ],
          "name": "stderr"
        },
        {
          "output_type": "stream",
          "text": [
            "Step 1440, Loss 0.01810544729232788\n",
            "Step 1450, Loss 0.006396055221557617\n",
            "Step 1460, Loss 0.0015486478805541992\n",
            "Step 1470, Loss 0.004211902618408203\n",
            "Step 1480, Loss 0.0008026361465454102\n",
            "Step 1490, Loss 0.010561048984527588\n",
            "Step 1500, Loss 0.0006518959999084473\n",
            "Step 1510, Loss 0.0004096031188964844\n",
            "Step 1520, Loss 5.6803226470947266e-05\n",
            "Step 1530, Loss 6.401538848876953e-05\n",
            "Step 1540, Loss 0.0019676685333251953\n",
            "Step 1550, Loss 0.003679633140563965\n",
            "Step 1560, Loss 3.594160079956055e-05\n",
            "Step 1570, Loss 0.4339160919189453\n",
            "Step 1580, Loss 1.0609626770019531e-05\n",
            "Step 1590, Loss 0.0031328201293945312\n",
            "Step 1600, Loss 0.036397457122802734\n",
            "Step 1610, Loss 0.00029355287551879883\n"
          ],
          "name": "stdout"
        },
        {
          "output_type": "stream",
          "text": [
            "100%|██████████| 180/180 [00:21<00:00,  8.26it/s]"
          ],
          "name": "stderr"
        },
        {
          "output_type": "stream",
          "text": [
            "\n",
            "\n",
            "Starting epoch 10/10, LR = [0.001]\n"
          ],
          "name": "stdout"
        },
        {
          "output_type": "stream",
          "text": [
            "\n"
          ],
          "name": "stderr"
        },
        {
          "output_type": "stream",
          "text": [
            "Step 1620, Loss 0.009793341159820557\n",
            "Step 1630, Loss 0.0003210306167602539\n",
            "Step 1640, Loss 0.0308687686920166\n",
            "Step 1650, Loss 0.0030673742294311523\n",
            "Step 1660, Loss 0.0007050037384033203\n",
            "Step 1670, Loss 0.0016117095947265625\n",
            "Step 1680, Loss 0.011597812175750732\n",
            "Step 1690, Loss 0.00010269880294799805\n",
            "Step 1700, Loss 5.21540641784668e-05\n",
            "Step 1710, Loss 0.14564916491508484\n",
            "Step 1720, Loss 0.0005182027816772461\n",
            "Step 1730, Loss 5.072355270385742e-05\n",
            "Step 1740, Loss 0.0013156533241271973\n",
            "Step 1750, Loss 0.005546450614929199\n",
            "Step 1760, Loss 0.003642439842224121\n",
            "Step 1770, Loss 0.0005130767822265625\n",
            "Step 1780, Loss 0.0005648136138916016\n",
            "Step 1790, Loss 0.0001811981201171875\n"
          ],
          "name": "stdout"
        },
        {
          "output_type": "stream",
          "text": [
            "100%|██████████| 180/180 [00:22<00:00,  8.18it/s]"
          ],
          "name": "stderr"
        },
        {
          "output_type": "stream",
          "text": [
            "\n",
            "The best epoch is 8 with loss = 0.03835397958755493 and accuracy = 0.9014522821576764\n"
          ],
          "name": "stdout"
        },
        {
          "output_type": "stream",
          "text": [
            "\n"
          ],
          "name": "stderr"
        }
      ]
    },
    {
      "cell_type": "code",
      "metadata": {
        "id": "ZwQCjMBzbL4G",
        "colab_type": "code",
        "colab": {}
      },
      "source": [
        "best_net"
      ],
      "execution_count": 0,
      "outputs": []
    },
    {
      "cell_type": "code",
      "metadata": {
        "id": "yuXeBVEC7aXg",
        "colab_type": "code",
        "colab": {}
      },
      "source": [
        "# PLOT LOSSES\n",
        "plt.plot(loss_train, label=\"Training\")\n",
        "plt.plot(loss_val, \"r\", label=\"Validation\")\n",
        "plt.legend(loc=\"upper right\")\n",
        "plt.xlabel(\"Epoch\")\n",
        "plt.ylabel(\"Loss\")\n",
        "plt.title(\"Training and Validation losses\")\n",
        "plt.grid(axis=\"y\")\n",
        "plt.show()"
      ],
      "execution_count": 0,
      "outputs": []
    },
    {
      "cell_type": "code",
      "metadata": {
        "id": "ZiYWGinkWUwa",
        "colab_type": "code",
        "outputId": "a9616f4c-92a4-4bec-c47a-070a5059555d",
        "colab": {
          "base_uri": "https://localhost:8080/",
          "height": 185
        }
      },
      "source": [
        "loss_val"
      ],
      "execution_count": 16,
      "outputs": [
        {
          "output_type": "execute_result",
          "data": {
            "text/plain": [
              "[0.5640168786048889,\n",
              " 0.11916041374206543,\n",
              " 0.37789058685302734,\n",
              " 0.11801713705062866,\n",
              " 0.30325281620025635,\n",
              " 0.12105575203895569,\n",
              " 0.09973520040512085,\n",
              " 0.03835397958755493,\n",
              " 0.3649991750717163,\n",
              " 0.03836846351623535]"
            ]
          },
          "metadata": {
            "tags": []
          },
          "execution_count": 16
        }
      ]
    },
    {
      "cell_type": "code",
      "metadata": {
        "id": "ChqceGys7m4I",
        "colab_type": "code",
        "colab": {}
      },
      "source": [
        "# PLOT ACCURACIES\n",
        "plt.plot(accuracy_train, label=\"Training\")\n",
        "plt.plot(accuracy_val, \"r\", label=\"Validation\")\n",
        "plt.legend(loc=\"lower right\")\n",
        "plt.xlabel(\"Epoch\")\n",
        "plt.ylabel(\"Accuracy\")\n",
        "plt.title(\"Training and Validation accuracies\")\n",
        "plt.grid(axis=\"y\")\n",
        "plt.show()"
      ],
      "execution_count": 0,
      "outputs": []
    },
    {
      "cell_type": "markdown",
      "metadata": {
        "id": "jxekmR745ySe",
        "colab_type": "text"
      },
      "source": [
        "**Test**"
      ]
    },
    {
      "cell_type": "code",
      "metadata": {
        "id": "fSHcUqLB5yWO",
        "colab_type": "code",
        "outputId": "7051151f-2138-469a-b21e-2101eaaa8896",
        "colab": {
          "base_uri": "https://localhost:8080/",
          "height": 67
        }
      },
      "source": [
        "net.load_state_dict(best_net)\n",
        "net = net.to(DEVICE) # this will bring the network to GPU if DEVICE is cuda\n",
        "net.train(False) # Set Network to evaluation mode\n",
        "\n",
        "running_corrects = 0\n",
        "for images, labels in tqdm(test_dataloader):\n",
        "  images = images.to(DEVICE)\n",
        "  labels = labels.to(DEVICE)\n",
        "\n",
        "  # Forward Pass\n",
        "  outputs = net(images)\n",
        "\n",
        "  # Get predictions\n",
        "  _, preds = torch.max(outputs.data, 1)\n",
        "\n",
        "  # Update Corrects\n",
        "  running_corrects += torch.sum(preds == labels.data).data.item()\n",
        "\n",
        "# Calculate Accuracy\n",
        "accuracy = running_corrects / float(len(test_dataset))\n",
        "\n",
        "print('\\nTest Accuracy = {}'.format(accuracy))"
      ],
      "execution_count": 18,
      "outputs": [
        {
          "output_type": "stream",
          "text": [
            "100%|██████████| 181/181 [00:21<00:00,  8.48it/s]"
          ],
          "name": "stderr"
        },
        {
          "output_type": "stream",
          "text": [
            "\n",
            "Test Accuracy = 0.9101278949187694\n"
          ],
          "name": "stdout"
        },
        {
          "output_type": "stream",
          "text": [
            "\n"
          ],
          "name": "stderr"
        }
      ]
    }
  ]
}